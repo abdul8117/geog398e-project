{
 "cells": [
  {
   "cell_type": "code",
   "execution_count": 1,
   "id": "f846e057",
   "metadata": {},
   "outputs": [],
   "source": [
    "\n",
    "from PollenDataAnalyzer import PollenDataAnalyzer\n",
    "# %pip install tqdm\n",
    "from collections import defaultdict"
   ]
  },
  {
   "cell_type": "code",
   "execution_count": 2,
   "id": "ced92133",
   "metadata": {},
   "outputs": [],
   "source": [
    "\n",
    "# %pip install matplotlib\n",
    "# from PollenDataAnalyzer import PollenDataAnalyzer\n",
    "\n",
    "# TODOS !!!!\n",
    "# should we change the itensity_mapping, it seem kind of werid that it's all low and high\n",
    "# \n",
    "\n",
    "#df-> clean data-> pollen only() [store in pollen_df and using pollen_df in lat_long_to_county()] -> lat_long_to_county() [store in fips_df and using fips_df in add_land_cover_info() then store it in final_df ]\n",
    "\n"
   ]
  },
  {
   "cell_type": "code",
   "execution_count": 3,
   "id": "488e151b",
   "metadata": {},
   "outputs": [],
   "source": [
    "LOCAL_PATH = \"/Applications/Home/2025 Spring/GEOG398E/Project data/dataset-for-roi-2/\""
   ]
  },
  {
   "cell_type": "code",
   "execution_count": 4,
   "id": "94c0e9f6",
   "metadata": {},
   "outputs": [
    {
     "name": "stdout",
     "output_type": "stream",
     "text": [
      "['Open flowers (lilac)' 'Full flowering (lilac)'\n",
      " 'End of flowering (lilac/honeysuckle)'\n",
      " 'Breaking leaf buds (lilac/honeysuckle)'\n",
      " 'All leaf buds broken (lilac/honeysuckle)'\n",
      " '>=50% of leaves colored (deciduous)' 'All leaves colored (deciduous)'\n",
      " '>=50% of leaves fallen (deciduous)' 'All leaves fallen (deciduous)'\n",
      " 'Full flowering (50%)' 'Breaking leaf buds' 'Leaves' 'Open flowers'\n",
      " 'All leaves withered (herbaceous and grasses)'\n",
      " 'Open flowers (1 location)' 'Ripe fruits (1 location)'\n",
      " 'Initial growth (forbs)' 'Leaves (forbs)' 'Ripe fruits'\n",
      " 'Increasing leaf size' 'Falling leaves' 'Colored leaves'\n",
      " 'Flowers or flower buds' 'Recent fruit or seed drop' 'Fruits'\n",
      " 'Pollen release (flowers)' '>=75% of full leaf size (deciduous)'\n",
      " 'Unripe seed cones' 'Ripe seed cones' 'Young needles (pines)'\n",
      " 'Pollen cones (conifers)' 'Recent cone or seed drop'\n",
      " 'Open pollen cones (conifers)' 'Emerging needles (pines)'\n",
      " 'Pollen release (conifers)' 'Breaking needle buds (conifers)'\n",
      " 'Young needles (conifers)' 'Initial growth (grasses/sedges)'\n",
      " 'Leaves (grasses)' 'Flower heads (grasses/sedges)'\n",
      " 'Open flowers (grasses/sedges)' 'Full pollen release (angiosperms)'\n",
      " 'Young leaves (tree/shrub)' 'Falling needles'\n",
      " 'Breaking needle buds (deciduous)' 'Needles (deciduous)'\n",
      " 'Colored needles' 'Leaves (sedges)' 'Young leaves (forbs)'\n",
      " 'Initial growth (rushes)' 'Leaves (rushes)']\n"
     ]
    }
   ],
   "source": [
    "import pandas as pd\n",
    "\n",
    "# path to your CSV file\n",
    "file_path = \"/Applications/Home/2025 Spring/GEOG398E/Project data/dataset-for-roi-2/status_intensity_observation_data.csv\"\n",
    "\n",
    "# read the CSV\n",
    "df = pd.read_csv(file_path)\n",
    "\n",
    "# # print the column names\n",
    "# print(\"Columns in the CSV:\")\n",
    "# print(df.columns)\n",
    "\n",
    "# # check if 'Intensity_Value' is in the columns\n",
    "# if 'Intensity_Value' in df.columns:\n",
    "#     # print unique values in 'Intensity_Value'\n",
    "#     print(\"\\nUnique categories in 'Intensity_Value':\")\n",
    "#     print(df['Intensity_Value'].unique())\n",
    "# else:\n",
    "#     print(\"\\n⚠️ 'Intensity_Value' column not found in the CSV!\")\n",
    "\n",
    "print(df[\"Phenophase_Description\"].unique())\n",
    "\n",
    "  # \"Reproductive\": [\n",
    "  #   \"Flowers or flower buds\",\n",
    "  #   \"Flowers\",\n",
    "  #   \"Open flowers\",\n",
    "  #   \"Pollen release\",\n",
    "  #   \"Pollen cones\",\n",
    "  #   \"Open pollen cones\",\n",
    "  #   \"Pollen release (flowers)\",\n",
    "  #   \"Pollen cones (conifers)\",\n",
    "  #   \"Open pollen cones (conifers)\",\n",
    "  #   \"Pollen release (conifers)\",\n",
    "  #   \"Open flowers (grasses/sedges)\"\n",
    "  # ],"
   ]
  },
  {
   "cell_type": "code",
   "execution_count": 5,
   "id": "ba236e13",
   "metadata": {},
   "outputs": [
    {
     "name": "stdout",
     "output_type": "stream",
     "text": [
      "Data cleaned with numerical (1-10) intensity mapping.\n",
      "Intensity value distribution:\n",
      "Intensity_Value\n",
      "0.0    23547\n",
      "1.0    25202\n",
      "2.0    19490\n",
      "3.0    16287\n",
      "4.0    18917\n",
      "5.0    17476\n",
      "6.0    11193\n",
      "7.0    27018\n",
      "8.0     3492\n",
      "9.0    71646\n",
      "Name: count, dtype: int64\n"
     ]
    }
   ],
   "source": [
    "#!!!download and Change the data_path for your own \"dataset-for-roi/cleaned_status_intensity_observation_data.csv\" path on your local computer\n",
    "#also download and change the land_cover_path\n",
    "\n",
    "analyzer = PollenDataAnalyzer(\n",
    "    data_path= LOCAL_PATH + \"status_intensity_observation_data.csv\",  # or the raw CSV\n",
    "    mapping_path=\"../intensity_mapping.json\",\n",
    "    Phenophase_path=\"../Phenophase.json\", \n",
    "    land_cover_path = LOCAL_PATH + \"table_2021_counties_max.csv\",\n",
    "    project_data_path = LOCAL_PATH\n",
    ")"
   ]
  },
  {
   "cell_type": "code",
   "execution_count": 6,
   "id": "8a061173",
   "metadata": {},
   "outputs": [
    {
     "name": "stderr",
     "output_type": "stream",
     "text": [
      "/Applications/Home/2025 Spring/GEOG398E/geog398e-project/scripts/PollenDataAnalyzer.py:194: UserWarning: This pattern is interpreted as a regular expression, and has match groups. To actually get the groups, use str.extract.\n",
      "  mask = self.df['Phenophase_Description'].str.contains(combined_pattern, regex=True, na=False)\n"
     ]
    },
    {
     "name": "stdout",
     "output_type": "stream",
     "text": [
      "Pollen-only dataset created with 32196 rows.\n",
      "Original dataset has 239913 rows.\n",
      "Unique phenophase descriptions in pollen dataset:\n",
      "['Flowers or flower buds' 'Open flowers' 'Pollen release (flowers)'\n",
      " 'Pollen cones (conifers)' 'Open pollen cones (conifers)'\n",
      " 'Pollen release (conifers)' 'Open flowers (grasses/sedges)']\n"
     ]
    },
    {
     "data": {
      "text/plain": [
       "array(['Flowers or flower buds', 'Open flowers',\n",
       "       'Pollen release (flowers)', 'Pollen cones (conifers)',\n",
       "       'Open pollen cones (conifers)', 'Pollen release (conifers)',\n",
       "       'Open flowers (grasses/sedges)'], dtype=object)"
      ]
     },
     "execution_count": 6,
     "metadata": {},
     "output_type": "execute_result"
    }
   ],
   "source": [
    "# analyzer.map_phenophase_categories()\n",
    "\n",
    "# #first 2 rows\n",
    "# analyzer.df[\"Phenophase_Category\"].head(5)\n",
    "# analyzer.df[\"Phenophase_Category\"].unique()\n",
    "\n",
    "analyzer.pollen_only()\n",
    "# print(analyzer.pollen_df.columns)\n",
    "analyzer.pollen_df[\"Phenophase_Description\"].unique()\n",
    "# analyzer.final_df[\"Phenophase_Name\"].unique()"
   ]
  },
  {
   "cell_type": "code",
   "execution_count": 7,
   "id": "8edf3605",
   "metadata": {},
   "outputs": [
    {
     "name": "stdout",
     "output_type": "stream",
     "text": [
      "Fetching county FIPS codes...\n"
     ]
    },
    {
     "name": "stderr",
     "output_type": "stream",
     "text": [
      "Fetching FIPS: 100%|████████████████████████████████████████| 32196/32196 [00:14<00:00, 2238.76it/s]\n"
     ]
    },
    {
     "name": "stdout",
     "output_type": "stream",
     "text": [
      "Finished fetching county FIPS codes.\n",
      "         Observation_ID   Latitude  Longitude  Species_ID  Individual_ID  \\\n",
      "1266            7674014  35.648930 -78.816948          82           6552   \n",
      "1279            9894514  35.648930 -78.816948          82           6552   \n",
      "1280            9959272  35.648930 -78.816948          82           6552   \n",
      "1281           10053832  35.648930 -78.816948          82           6552   \n",
      "1282           10705250  35.648930 -78.816948          82           6552   \n",
      "...                 ...        ...        ...         ...            ...   \n",
      "1670447        52064280  39.033443 -77.018204        1201         347548   \n",
      "1671483        51959969  35.167660 -81.056870        1201         350442   \n",
      "1671520        52067610  39.009678 -77.095146        1728         351069   \n",
      "1671614        52137296  38.883358 -77.106964        1653         364153   \n",
      "1671615        52137297  38.883358 -77.106964        1653         364153   \n",
      "\n",
      "         Phenophase_ID Phenophase_Category  Phenophase_Description  \\\n",
      "1266               500             Flowers  Flowers or flower buds   \n",
      "1279               500             Flowers  Flowers or flower buds   \n",
      "1280               500             Flowers  Flowers or flower buds   \n",
      "1281               500             Flowers  Flowers or flower buds   \n",
      "1282               500             Flowers  Flowers or flower buds   \n",
      "...                ...                 ...                     ...   \n",
      "1670447            500             Flowers  Flowers or flower buds   \n",
      "1671483            500             Flowers  Flowers or flower buds   \n",
      "1671520            500             Flowers  Flowers or flower buds   \n",
      "1671614            500             Flowers  Flowers or flower buds   \n",
      "1671615            501             Flowers            Open flowers   \n",
      "\n",
      "                Phenophase_Name  Phenophase_Definition_ID  ...  \\\n",
      "1266     Flowers or flower buds                       548  ...   \n",
      "1279     Flowers or flower buds                       548  ...   \n",
      "1280     Flowers or flower buds                       548  ...   \n",
      "1281     Flowers or flower buds                       548  ...   \n",
      "1282     Flowers or flower buds                       548  ...   \n",
      "...                         ...                       ...  ...   \n",
      "1670447  Flowers or flower buds                       548  ...   \n",
      "1671483  Flowers or flower buds                       548  ...   \n",
      "1671520  Flowers or flower buds                       548  ...   \n",
      "1671614  Flowers or flower buds                       548  ...   \n",
      "1671615            Open flowers                       501  ...   \n",
      "\n",
      "        Intensity_Category_ID  Intensity_Value  Site_Visit_ID     AGDD  \\\n",
      "1266                       48              6.0         160137  1095.50   \n",
      "1279                       48              2.0         234697   493.25   \n",
      "1280                       48              4.0         236074   580.50   \n",
      "1281                       48              4.0         238050   665.50   \n",
      "1282                       48              6.0         252801  1477.25   \n",
      "...                       ...              ...            ...      ...   \n",
      "1670447                    48              1.0         943909 -9999.00   \n",
      "1671483                    48              1.0         942096 -9999.00   \n",
      "1671520                    48              4.0         943962 -9999.00   \n",
      "1671614                    49              2.0         945305 -9999.00   \n",
      "1671615                    50              5.0         945305 -9999.00   \n",
      "\n",
      "           Tmax    Tmin    Prcp  Accum_Prcp  Daylength  county_fips  \n",
      "1266       25.0    10.5     0.0       289.0      48038        37183  \n",
      "1279       24.5     8.5     0.0       139.0      39744        37183  \n",
      "1280       14.0    -0.5     0.0       160.0      40435        37183  \n",
      "1281        8.0    -1.5    20.0       183.0      42163        37183  \n",
      "1282       25.5    11.5     0.0       426.0      48730        37183  \n",
      "...         ...     ...     ...         ...        ...          ...  \n",
      "1670447 -9999.0 -9999.0 -9999.0     -9999.0      -9999        24031  \n",
      "1671483 -9999.0 -9999.0 -9999.0     -9999.0      -9999        37071  \n",
      "1671520 -9999.0 -9999.0 -9999.0     -9999.0      -9999        24031  \n",
      "1671614 -9999.0 -9999.0 -9999.0     -9999.0      -9999        51013  \n",
      "1671615 -9999.0 -9999.0 -9999.0     -9999.0      -9999        51013  \n",
      "\n",
      "[32196 rows x 22 columns]\n"
     ]
    },
    {
     "data": {
      "text/plain": [
       "array(['Flowers or flower buds', 'Open flowers',\n",
       "       'Pollen release (flowers)', 'Pollen cones (conifers)',\n",
       "       'Open pollen cones (conifers)', 'Pollen release (conifers)',\n",
       "       'Open flowers (grasses/sedges)'], dtype=object)"
      ]
     },
     "execution_count": 7,
     "metadata": {},
     "output_type": "execute_result"
    }
   ],
   "source": [
    "#using the pollen_df to convert only the correct phenophase data with corresponding lag_long to county ideas\n",
    "#https://geo.fcc.gov/api/census/#!/area/get_area\n",
    "#this will take 1-3 minutues max\n",
    "# and also store a copy to Kathy's personal path (LINE 169 to delete it or change it to your own path)\n",
    "analyzer.lat_long_to_county()\n",
    "analyzer.fips_df[\"Phenophase_Description\"].unique()\n"
   ]
  },
  {
   "cell_type": "code",
   "execution_count": 8,
   "id": "b737a7c1",
   "metadata": {},
   "outputs": [
    {
     "name": "stdout",
     "output_type": "stream",
     "text": [
      "Land cover types added using hash table.\n",
      "     county_fips        land_cover_type\n",
      "1266       37183  Developed, open space\n",
      "1279       37183  Developed, open space\n",
      "1280       37183  Developed, open space\n",
      "1281       37183  Developed, open space\n",
      "1282       37183  Developed, open space\n"
     ]
    }
   ],
   "source": [
    "analyzer.add_land_cover_info()"
   ]
  },
  {
   "cell_type": "code",
   "execution_count": 9,
   "id": "b12dc51a",
   "metadata": {},
   "outputs": [
    {
     "name": "stdout",
     "output_type": "stream",
     "text": [
      "Year       Count     \n",
      "--------------------\n",
      "2011       1         \n",
      "2012       41        \n",
      "2013       851       \n",
      "2014       958       \n",
      "2015       782       \n",
      "2016       1717      \n",
      "2017       2270      \n",
      "2018       2287      \n",
      "2019       2211      \n",
      "2020       1701      \n",
      "2021       3256      \n",
      "2022       5019      \n",
      "2023       5738      \n",
      "2024       3659      \n",
      "2025       1705      \n",
      "final data sets 32196 rows.\n",
      "32196\n"
     ]
    }
   ],
   "source": [
    "# finding the number of data points for each year\n",
    "\n",
    "year_counts = defaultdict(int)\n",
    "\n",
    "# Loop through each date and extract the year\n",
    "for date in analyzer.df[\"Observation_Date\"]:\n",
    "    year = str(date)[:4]  # Get the year part from YYYY-MM-DD\n",
    "    year_counts[year] += 1\n",
    "\n",
    "# Sort by year\n",
    "sorted_years = sorted(year_counts.items())\n",
    "\n",
    "# Print as a clean table\n",
    "print(f\"{'Year':<10} {'Count':<10}\")\n",
    "print(\"-\" * 20)\n",
    "for year, count in sorted_years:\n",
    "    print(f\"{year:<10} {count:<10}\")\n",
    "\n",
    "#check if it match with Pollen-only dataset created with 31935 rows. it does!\n",
    "print(\"final data sets\", len(analyzer.df), \"rows.\") \n",
    "print(len(analyzer.final_df))\n"
   ]
  },
  {
   "cell_type": "code",
   "execution_count": 10,
   "id": "e9919b09",
   "metadata": {},
   "outputs": [
    {
     "name": "stderr",
     "output_type": "stream",
     "text": [
      "Splitting Observation_Date: 100%|██████████| 32196/32196 [00:00<00:00, 841857.35it/s]\n",
      "Splitting Observation_Date: 100%|██████████| 32196/32196 [00:00<00:00, 985620.11it/s]\n",
      "Splitting Observation_Date: 100%|██████████| 32196/32196 [00:00<00:00, 507271.80it/s]\n"
     ]
    },
    {
     "name": "stdout",
     "output_type": "stream",
     "text": [
      "Updated final_df with Year, Month, Day columns and saved to /Applications/Home/2025 Spring/GEOG398E/Project data/dataset-for-roi-2/final_df.csv\n"
     ]
    }
   ],
   "source": [
    "analyzer.split_observation_date()"
   ]
  },
  {
   "cell_type": "code",
   "execution_count": 11,
   "id": "c377d128",
   "metadata": {},
   "outputs": [
    {
     "name": "stdout",
     "output_type": "stream",
     "text": [
      "Index(['Observation_ID', 'Latitude', 'Longitude', 'Species_ID',\n",
      "       'Individual_ID', 'Phenophase_ID', 'Phenophase_Category',\n",
      "       'Phenophase_Description', 'Phenophase_Name', 'Phenophase_Definition_ID',\n",
      "       'Observation_Date', 'Day_of_Year', 'Intensity_Category_ID',\n",
      "       'Intensity_Value', 'Site_Visit_ID', 'AGDD', 'Tmax', 'Tmin', 'Prcp',\n",
      "       'Accum_Prcp', 'Daylength', 'county_fips', 'land_cover_type', 'Year',\n",
      "       'Month', 'Day'],\n",
      "      dtype='object')\n",
      "Index(['Observation_ID', 'Species_ID', 'Phenophase_ID', 'Phenophase_Category',\n",
      "       'Phenophase_Description', 'Phenophase_Definition_ID', 'Day_of_Year',\n",
      "       'Intensity_Category_ID', 'Intensity_Value', 'Site_Visit_ID', 'AGDD',\n",
      "       'Tmax', 'Tmin', 'Prcp', 'Accum_Prcp', 'Daylength', 'county_fips',\n",
      "       'land_cover_type', 'Observation_Date', 'Year', 'Month', 'Day'],\n",
      "      dtype='object')\n"
     ]
    }
   ],
   "source": [
    "print(analyzer.final_df.columns)\n",
    "\n",
    "# Define the exact columns you want to keep\n",
    "columns_to_keep = [\n",
    "    'Observation_ID', 'Species_ID', 'Phenophase_ID', 'Phenophase_Category',\n",
    "    'Phenophase_Description', 'Phenophase_Definition_ID',\n",
    "    'Day_of_Year', 'Intensity_Category_ID', 'Intensity_Value', 'Site_Visit_ID',\n",
    "    'AGDD', 'Tmax', 'Tmin', 'Prcp', 'Accum_Prcp', 'Daylength',\n",
    "    'county_fips', 'land_cover_type', 'Observation_Date', 'Year', 'Month', 'Day'\n",
    "]\n",
    "\n",
    "# Select only these columns\n",
    "cleaned_df = analyzer.final_df[columns_to_keep]\n",
    "\n",
    "# Drop rows with NA or empty Intensity_Value\n",
    "cleaned_df = cleaned_df.dropna(subset=['Intensity_Value'])\n",
    "cleaned_df = cleaned_df[cleaned_df['Intensity_Value'].astype(str).str.strip() != '']\n",
    "\n",
    "# Save the cleaned DataFrame\n",
    "cleaned_df.to_csv(\n",
    "    LOCAL_PATH + \"cleaned_V2.0_status_intensity_observation_data.csv\",\n",
    "    index=False\n",
    ")\n",
    "\n",
    "# Print final columns\n",
    "print(cleaned_df.columns)\n",
    "\n"
   ]
  },
  {
   "cell_type": "code",
   "execution_count": 12,
   "id": "f67662ba",
   "metadata": {},
   "outputs": [
    {
     "name": "stdout",
     "output_type": "stream",
     "text": [
      "Index(['Observation_ID', 'Species_ID', 'Phenophase_ID', 'Phenophase_Category',\n",
      "       'Phenophase_Description', 'Phenophase_Definition_ID', 'Day_of_Year',\n",
      "       'Intensity_Category_ID', 'Intensity_Value', 'Site_Visit_ID', 'AGDD',\n",
      "       'Tmax', 'Tmin', 'Prcp', 'Accum_Prcp', 'Daylength', 'county_fips',\n",
      "       'land_cover_type', 'Observation_Date', 'Year', 'Month', 'Day'],\n",
      "      dtype='object')\n",
      "32196\n"
     ]
    }
   ],
   "source": [
    "# analyzer.final_df[\"Phenophase_Category\"].unique()\n",
    "\n",
    "print(cleaned_df.columns)\n",
    "print(len(cleaned_df))"
   ]
  },
  {
   "cell_type": "code",
   "execution_count": null,
   "id": "b1611804",
   "metadata": {},
   "outputs": [
    {
     "data": {
      "text/plain": [
       "array(['Flowers or flower buds', 'Open flowers',\n",
       "       'Pollen release (flowers)', 'Pollen cones (conifers)',\n",
       "       'Open pollen cones (conifers)', 'Pollen release (conifers)',\n",
       "       'Open flowers (grasses/sedges)'], dtype=object)"
      ]
     },
     "execution_count": 13,
     "metadata": {},
     "output_type": "execute_result"
    }
   ],
   "source": [
    "\n",
    "# print(cleaned_df.columns)\n",
    "# cleaned_df[\"Species_ID\"].unique()\n",
    "# analyzer.pollen_df[\"Phenophase_Description\"].unique()\n",
    "\n",
    "\n",
    "# print(len(cleaned_df[\"Accum_Prcp\"].unique()))\n",
    "# print(len(cleaned_df[\"Prcp\"].unique()))\n",
    "\n",
    "# cleaned_df[\"Accum_Prcp\"].unique()\n",
    "cleaned_df[\"Phenophase_Description\"].unique()\n",
    "# Phenophase_Description\n",
    "\n"
   ]
  }
 ],
 "metadata": {
  "kernelspec": {
   "display_name": "Python 3",
   "language": "python",
   "name": "python3"
  },
  "language_info": {
   "codemirror_mode": {
    "name": "ipython",
    "version": 3
   },
   "file_extension": ".py",
   "mimetype": "text/x-python",
   "name": "python",
   "nbconvert_exporter": "python",
   "pygments_lexer": "ipython3",
   "version": "3.10.0"
  }
 },
 "nbformat": 4,
 "nbformat_minor": 5
}
