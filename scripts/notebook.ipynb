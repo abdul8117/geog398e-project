{
 "cells": [
  {
   "cell_type": "code",
   "execution_count": 1,
   "id": "f846e057",
   "metadata": {},
   "outputs": [],
   "source": [
    "\n",
    "from PollenDataAnalyzer import PollenDataAnalyzer\n",
    "# %pip install tqdm\n",
    "from collections import defaultdict"
   ]
  },
  {
   "cell_type": "code",
   "execution_count": 2,
   "id": "ced92133",
   "metadata": {},
   "outputs": [],
   "source": [
    "\n",
    "# %pip install matplotlib\n",
    "# from PollenDataAnalyzer import PollenDataAnalyzer\n",
    "\n",
    "# TODOS !!!!\n",
    "# should we change the itensity_mapping, it seem kind of werid that it's all low and high\n",
    "# \n"
   ]
  },
  {
   "cell_type": "code",
   "execution_count": 3,
   "id": "488e151b",
   "metadata": {},
   "outputs": [],
   "source": [
    "LOCAL_PATH = \"../Project data/\""
   ]
  },
  {
   "cell_type": "code",
   "execution_count": 4,
   "id": "ba236e13",
   "metadata": {},
   "outputs": [],
   "source": [
    "#!!!download and Change the data_path for your own \"dataset-for-roi/cleaned_status_intensity_observation_data.csv\" path on your local computer\n",
    "#also download and change the land_cover_path\n",
    "\n",
    "analyzer = PollenDataAnalyzer(\n",
    "    data_path= LOCAL_PATH + \"status_intensity_observation_data.csv\",  # or the raw CSV\n",
    "    mapping_path=\"../intensity_mapping.json\",\n",
    "    Phenophase_path=\"../Phenophase.json\", \n",
    "    land_cover_path = LOCAL_PATH + \"table_2021_counties_max.xlsx\",\n",
    "    project_data_path = LOCAL_PATH\n",
    ")"
   ]
  },
  {
   "cell_type": "code",
   "execution_count": 5,
   "id": "8a061173",
   "metadata": {},
   "outputs": [
    {
     "data": {
      "text/plain": [
       "0    Reproductive\n",
       "1    Reproductive\n",
       "2    Reproductive\n",
       "3    Reproductive\n",
       "4    Reproductive\n",
       "Name: Phenophase_Category, dtype: object"
      ]
     },
     "execution_count": 5,
     "metadata": {},
     "output_type": "execute_result"
    }
   ],
   "source": [
    "analyzer.map_phenophase_categories()\n",
    "\n",
    "#first 2 rows\n",
    "analyzer.df[\"Phenophase_Category\"].head(5)"
   ]
  },
  {
   "cell_type": "code",
   "execution_count": 8,
   "id": "8edf3605",
   "metadata": {},
   "outputs": [
    {
     "name": "stdout",
     "output_type": "stream",
     "text": [
      "Fetching county FIPS codes...\n"
     ]
    },
    {
     "name": "stderr",
     "output_type": "stream",
     "text": [
      "Fetching FIPS: 100%|███████████████████████████████████| 1671618/1671618 [00:24<00:00, 67172.94it/s]\n"
     ]
    },
    {
     "name": "stdout",
     "output_type": "stream",
     "text": [
      "Finished fetching county FIPS codes.\n",
      "         Observation_ID   Latitude  Longitude  Species_ID  Individual_ID  \\\n",
      "0                 42749  37.545090 -75.927589          36            907   \n",
      "1                 42749  37.545090 -75.927589          36            907   \n",
      "2                 42744  37.545090 -75.927589          36            907   \n",
      "3                 42744  37.545090 -75.927589          36            907   \n",
      "4                 42739  37.545090 -75.927589          36            907   \n",
      "...                 ...        ...        ...         ...            ...   \n",
      "1671613        52137295  38.883358 -77.106964        1653         364153   \n",
      "1671614        52137296  38.883358 -77.106964        1653         364153   \n",
      "1671615        52137297  38.883358 -77.106964        1653         364153   \n",
      "1671616        52137300  38.883358 -77.106964        1653         364153   \n",
      "1671617        52137298  38.883358 -77.106964        1653         364153   \n",
      "\n",
      "         Phenophase_ID Phenophase_Category            Phenophase_Name  \\\n",
      "0                  205        Reproductive               Open flowers   \n",
      "1                  205        Reproductive               Open flowers   \n",
      "2                  205        Reproductive               Open flowers   \n",
      "3                  205        Reproductive               Open flowers   \n",
      "4                  205        Reproductive               Open flowers   \n",
      "...                ...                 ...                        ...   \n",
      "1671613            488          Vegetative                     Leaves   \n",
      "1671614            500        Reproductive     Flowers or flower buds   \n",
      "1671615            501        Reproductive               Open flowers   \n",
      "1671616            504          Fruit/seed  Recent fruit or seed drop   \n",
      "1671617            516          Fruit/seed                     Fruits   \n",
      "\n",
      "         Phenophase_Definition_ID Observation_Date  Day_of_Year  \\\n",
      "0                             205       2009-03-16           75   \n",
      "1                             205       2009-03-16           75   \n",
      "2                             205       2009-03-20           79   \n",
      "3                             205       2009-03-20           79   \n",
      "4                             205       2009-04-11          101   \n",
      "...                           ...              ...          ...   \n",
      "1671613                       488       2025-04-18          108   \n",
      "1671614                       548       2025-04-18          108   \n",
      "1671615                       501       2025-04-18          108   \n",
      "1671616                       504       2025-04-18          108   \n",
      "1671617                       516       2025-04-18          108   \n",
      "\n",
      "         Intensity_Category_ID  Site_Visit_ID     AGDD    Tmax    Tmin  \\\n",
      "0                        -9999         397157   350.00     9.0     5.5   \n",
      "1                        -9999         397157   350.00     9.0     5.5   \n",
      "2                        -9999         397156   383.75    13.0     4.0   \n",
      "3                        -9999         397156   383.75    13.0     4.0   \n",
      "4                        -9999         397155   620.50    22.0     9.5   \n",
      "...                        ...            ...      ...     ...     ...   \n",
      "1671613                  -9999         945305 -9999.00 -9999.0 -9999.0   \n",
      "1671614                     49         945305 -9999.00 -9999.0 -9999.0   \n",
      "1671615                     50         945305 -9999.00 -9999.0 -9999.0   \n",
      "1671616                     60         945305 -9999.00 -9999.0 -9999.0   \n",
      "1671617                     57         945305 -9999.00 -9999.0 -9999.0   \n",
      "\n",
      "           Prcp  Accum_Prcp  Daylength county_fips  \n",
      "0           7.0       140.0      42163       51131  \n",
      "1           7.0       140.0      42163       51131  \n",
      "2           3.0       153.0      42854       51131  \n",
      "3           3.0       153.0      42854       51131  \n",
      "4           6.0       219.0      46310       51131  \n",
      "...         ...         ...        ...         ...  \n",
      "1671613 -9999.0     -9999.0      -9999       51013  \n",
      "1671614 -9999.0     -9999.0      -9999       51013  \n",
      "1671615 -9999.0     -9999.0      -9999       51013  \n",
      "1671616 -9999.0     -9999.0      -9999       51013  \n",
      "1671617 -9999.0     -9999.0      -9999       51013  \n",
      "\n",
      "[1671618 rows x 20 columns]\n"
     ]
    }
   ],
   "source": [
    "#using the pollen_df to convert only the correct phenophase data with corresponding lag_long to county ideas\n",
    "#https://geo.fcc.gov/api/census/#!/area/get_area\n",
    "#this will take 1-3 minutues max\n",
    "# and also store a copy to Kathy's personal path (LINE 169 to delete it or change it to your own path)\n",
    "analyzer.lat_long_to_county()"
   ]
  },
  {
   "cell_type": "code",
   "execution_count": 9,
   "id": "b737a7c1",
   "metadata": {},
   "outputs": [
    {
     "name": "stdout",
     "output_type": "stream",
     "text": [
      "Land cover types added using hash table.\n",
      "  county_fips   land_cover_type\n",
      "0       51131  Cultivated crops\n",
      "1       51131  Cultivated crops\n",
      "2       51131  Cultivated crops\n",
      "3       51131  Cultivated crops\n",
      "4       51131  Cultivated crops\n"
     ]
    }
   ],
   "source": [
    "analyzer.add_land_cover_info()"
   ]
  },
  {
   "cell_type": "code",
   "execution_count": 10,
   "id": "b12dc51a",
   "metadata": {},
   "outputs": [
    {
     "name": "stdout",
     "output_type": "stream",
     "text": [
      "Year       Count     \n",
      "--------------------\n",
      "2000       19        \n",
      "2001       749       \n",
      "2006       20        \n",
      "2009       253       \n",
      "2010       255       \n",
      "2011       3302      \n",
      "2012       12966     \n",
      "2013       39927     \n",
      "2014       48343     \n",
      "2015       49666     \n",
      "2016       111549    \n",
      "2017       105471    \n",
      "2018       124559    \n",
      "2019       161209    \n",
      "2020       99650     \n",
      "2021       249501    \n",
      "2022       238439    \n",
      "2023       219212    \n",
      "2024       146395    \n",
      "2025       60133     \n",
      "final data sets 1671618 rows.\n"
     ]
    }
   ],
   "source": [
    "# finding the number of data points for each year\n",
    "\n",
    "year_counts = defaultdict(int)\n",
    "\n",
    "# Loop through each date and extract the year\n",
    "for date in analyzer.df[\"Observation_Date\"]:\n",
    "    year = str(date)[:4]  # Get the year part from YYYY-MM-DD\n",
    "    year_counts[year] += 1\n",
    "\n",
    "# Sort by year\n",
    "sorted_years = sorted(year_counts.items())\n",
    "\n",
    "# Print as a clean table\n",
    "print(f\"{'Year':<10} {'Count':<10}\")\n",
    "print(\"-\" * 20)\n",
    "for year, count in sorted_years:\n",
    "    print(f\"{year:<10} {count:<10}\")\n",
    "\n",
    "#check if it match with Pollen-only dataset created with 31935 rows. it does!\n",
    "print(\"final data sets\", len(analyzer.df), \"rows.\") \n"
   ]
  },
  {
   "cell_type": "code",
   "execution_count": 11,
   "id": "c377d128",
   "metadata": {},
   "outputs": [
    {
     "name": "stdout",
     "output_type": "stream",
     "text": [
      "Index(['Observation_ID', 'Latitude', 'Longitude', 'Species_ID',\n",
      "       'Individual_ID', 'Phenophase_ID', 'Phenophase_Category',\n",
      "       'Phenophase_Name', 'Phenophase_Definition_ID', 'Observation_Date',\n",
      "       'Day_of_Year', 'Intensity_Category_ID', 'Site_Visit_ID', 'AGDD', 'Tmax',\n",
      "       'Tmin', 'Prcp', 'Accum_Prcp', 'Daylength', 'county_fips',\n",
      "       'land_cover_type'],\n",
      "      dtype='object')\n"
     ]
    }
   ],
   "source": [
    "print(analyzer.df.columns)\n",
    "\n",
    "\n",
    "# Make a copy of the column names\n",
    "columns_to_getrid = analyzer.df.columns.difference(\n",
    "    ['ObservedBy_Person_ID', 'Latitude', 'Longitude', 'Individual_ID', \n",
    "     'Phenophase_Description', 'Phenophase_Name', 'Site_Visit_ID', 'Plant_Nickname']\n",
    ")\n",
    "\n",
    "# Reorder columns to make 'Observation_ID' the first column\n",
    "columns_reordered = ['Observation_ID'] + [col for col in columns_to_getrid if col != 'Observation_ID']\n",
    "\n",
    "# Create a new DataFrame with the reordered columns\n",
    "cleaned_df = analyzer.df[columns_reordered]\n",
    "\n",
    "# Save the new DataFrame to the specified path\n",
    "cleaned_df.to_csv(\n",
    "    LOCAL_PATH + \"cleaned_V2.0_status_intensity_observation_data.csv\",\n",
    "    index=False\n",
    ")\n"
   ]
  }
 ],
 "metadata": {
  "kernelspec": {
   "display_name": "venv",
   "language": "python",
   "name": "python3"
  },
  "language_info": {
   "codemirror_mode": {
    "name": "ipython",
    "version": 3
   },
   "file_extension": ".py",
   "mimetype": "text/x-python",
   "name": "python",
   "nbconvert_exporter": "python",
   "pygments_lexer": "ipython3",
   "version": "3.12.3"
  }
 },
 "nbformat": 4,
 "nbformat_minor": 5
}
