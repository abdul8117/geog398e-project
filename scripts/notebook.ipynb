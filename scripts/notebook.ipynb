{
 "cells": [
  {
   "cell_type": "code",
   "execution_count": 2,
   "id": "f846e057",
   "metadata": {},
   "outputs": [],
   "source": [
    "\n",
    "from PollenDataAnalyzer import PollenDataAnalyzer\n",
    "# %pip install tqdm\n",
    "from collections import defaultdict"
   ]
  },
  {
   "cell_type": "code",
   "execution_count": 3,
   "id": "ced92133",
   "metadata": {},
   "outputs": [],
   "source": [
    "\n",
    "# %pip install matplotlib\n",
    "# from PollenDataAnalyzer import PollenDataAnalyzer\n",
    "\n",
    "# TODOS !!!!\n",
    "# should we change the itensity_mapping, it seem kind of werid that it's all low and high\n",
    "# \n"
   ]
  },
  {
   "cell_type": "code",
   "execution_count": 4,
   "id": "488e151b",
   "metadata": {},
   "outputs": [],
   "source": [
    "LOCAL_PATH = \"/Applications/Home/2025 Spring/GEOG398E/Project data/dataset-for-roi-2/\""
   ]
  },
  {
   "cell_type": "code",
   "execution_count": 5,
   "id": "94c0e9f6",
   "metadata": {},
   "outputs": [
    {
     "name": "stdout",
     "output_type": "stream",
     "text": [
      "['Open flowers (lilac)' 'Full flowering (lilac)'\n",
      " 'End of flowering (lilac/honeysuckle)'\n",
      " 'Breaking leaf buds (lilac/honeysuckle)'\n",
      " 'All leaf buds broken (lilac/honeysuckle)'\n",
      " '>=50% of leaves colored (deciduous)' 'All leaves colored (deciduous)'\n",
      " '>=50% of leaves fallen (deciduous)' 'All leaves fallen (deciduous)'\n",
      " 'Full flowering (50%)' 'Breaking leaf buds' 'Leaves' 'Open flowers'\n",
      " 'All leaves withered (herbaceous and grasses)'\n",
      " 'Open flowers (1 location)' 'Ripe fruits (1 location)'\n",
      " 'Initial growth (forbs)' 'Leaves (forbs)' 'Ripe fruits'\n",
      " 'Increasing leaf size' 'Falling leaves' 'Colored leaves'\n",
      " 'Flowers or flower buds' 'Recent fruit or seed drop' 'Fruits'\n",
      " 'Pollen release (flowers)' '>=75% of full leaf size (deciduous)'\n",
      " 'Unripe seed cones' 'Ripe seed cones' 'Young needles (pines)'\n",
      " 'Pollen cones (conifers)' 'Recent cone or seed drop'\n",
      " 'Open pollen cones (conifers)' 'Emerging needles (pines)'\n",
      " 'Pollen release (conifers)' 'Breaking needle buds (conifers)'\n",
      " 'Young needles (conifers)' 'Initial growth (grasses/sedges)'\n",
      " 'Leaves (grasses)' 'Flower heads (grasses/sedges)'\n",
      " 'Open flowers (grasses/sedges)' 'Full pollen release (angiosperms)'\n",
      " 'Young leaves (tree/shrub)' 'Falling needles'\n",
      " 'Breaking needle buds (deciduous)' 'Needles (deciduous)'\n",
      " 'Colored needles' 'Leaves (sedges)' 'Young leaves (forbs)'\n",
      " 'Initial growth (rushes)' 'Leaves (rushes)']\n"
     ]
    }
   ],
   "source": [
    "import pandas as pd\n",
    "\n",
    "# path to your CSV file\n",
    "file_path = \"/Applications/Home/2025 Spring/GEOG398E/Project data/dataset-for-roi-2/status_intensity_observation_data.csv\"\n",
    "\n",
    "# read the CSV\n",
    "df = pd.read_csv(file_path)\n",
    "\n",
    "# # print the column names\n",
    "# print(\"Columns in the CSV:\")\n",
    "# print(df.columns)\n",
    "\n",
    "# # check if 'Intensity_Value' is in the columns\n",
    "# if 'Intensity_Value' in df.columns:\n",
    "#     # print unique values in 'Intensity_Value'\n",
    "#     print(\"\\nUnique categories in 'Intensity_Value':\")\n",
    "#     print(df['Intensity_Value'].unique())\n",
    "# else:\n",
    "#     print(\"\\n⚠️ 'Intensity_Value' column not found in the CSV!\")\n",
    "\n",
    "print(df[\"Phenophase_Description\"].unique())\n",
    "\n",
    "  # \"Reproductive\": [\n",
    "  #   \"Flowers or flower buds\",\n",
    "  #   \"Flowers\",\n",
    "  #   \"Open flowers\",\n",
    "  #   \"Pollen release\",\n",
    "  #   \"Pollen cones\",\n",
    "  #   \"Open pollen cones\",\n",
    "  #   \"Pollen release (flowers)\",\n",
    "  #   \"Pollen cones (conifers)\",\n",
    "  #   \"Open pollen cones (conifers)\",\n",
    "  #   \"Pollen release (conifers)\",\n",
    "  #   \"Open flowers (grasses/sedges)\"\n",
    "  # ],"
   ]
  },
  {
   "cell_type": "code",
   "execution_count": 6,
   "id": "ba236e13",
   "metadata": {},
   "outputs": [
    {
     "name": "stdout",
     "output_type": "stream",
     "text": [
      "Data cleaned with numerical (1-10) intensity mapping.\n",
      "Intensity value distribution:\n",
      "Intensity_Value\n",
      "0.0    23547\n",
      "1.0    25202\n",
      "2.0    19490\n",
      "3.0    16287\n",
      "4.0    18917\n",
      "5.0    17476\n",
      "6.0    11193\n",
      "7.0    27018\n",
      "8.0     3492\n",
      "9.0    71646\n",
      "Name: count, dtype: int64\n"
     ]
    }
   ],
   "source": [
    "#!!!download and Change the data_path for your own \"dataset-for-roi/cleaned_status_intensity_observation_data.csv\" path on your local computer\n",
    "#also download and change the land_cover_path\n",
    "\n",
    "analyzer = PollenDataAnalyzer(\n",
    "    data_path= LOCAL_PATH + \"status_intensity_observation_data.csv\",  # or the raw CSV\n",
    "    mapping_path=\"../intensity_mapping.json\",\n",
    "    Phenophase_path=\"../Phenophase.json\", \n",
    "    land_cover_path = LOCAL_PATH + \"table_2021_counties_max.csv\",\n",
    "    project_data_path = LOCAL_PATH\n",
    ")"
   ]
  },
  {
   "cell_type": "code",
   "execution_count": 7,
   "id": "8a061173",
   "metadata": {},
   "outputs": [
    {
     "name": "stdout",
     "output_type": "stream",
     "text": [
      "Pollen-only dataset created with 32196 rows.\n",
      "Original dataset has 239913 rows.\n",
      "Unique phenophase descriptions in pollen dataset:\n",
      "['Flowers or flower buds' 'Open flowers' 'Pollen release (flowers)'\n",
      " 'Pollen cones (conifers)' 'Open pollen cones (conifers)'\n",
      " 'Pollen release (conifers)' 'Open flowers (grasses/sedges)']\n"
     ]
    },
    {
     "name": "stderr",
     "output_type": "stream",
     "text": [
      "/Applications/Home/2025 Spring/GEOG398E/geog398e-project/scripts/PollenDataAnalyzer.py:257: UserWarning: This pattern is interpreted as a regular expression, and has match groups. To actually get the groups, use str.extract.\n",
      "  mask = self.df['Phenophase_Description'].str.contains(combined_pattern, regex=True, na=False)\n"
     ]
    },
    {
     "data": {
      "text/plain": [
       "array(['Flowers or flower buds', 'Open flowers',\n",
       "       'Pollen release (flowers)', 'Pollen cones (conifers)',\n",
       "       'Open pollen cones (conifers)', 'Pollen release (conifers)',\n",
       "       'Open flowers (grasses/sedges)'], dtype=object)"
      ]
     },
     "execution_count": 7,
     "metadata": {},
     "output_type": "execute_result"
    }
   ],
   "source": [
    "# analyzer.map_phenophase_categories()\n",
    "\n",
    "# #first 2 rows\n",
    "# analyzer.df[\"Phenophase_Category\"].head(5)\n",
    "# analyzer.df[\"Phenophase_Category\"].unique()\n",
    "\n",
    "analyzer.pollen_only()\n",
    "# print(analyzer.pollen_df.columns)\n",
    "analyzer.pollen_df[\"Phenophase_Description\"].unique()\n",
    "# analyzer.final_df[\"Phenophase_Name\"].unique()"
   ]
  },
  {
   "cell_type": "code",
   "execution_count": 8,
   "id": "8edf3605",
   "metadata": {},
   "outputs": [
    {
     "name": "stdout",
     "output_type": "stream",
     "text": [
      "Fetching county FIPS codes...\n"
     ]
    },
    {
     "name": "stderr",
     "output_type": "stream",
     "text": [
      "Fetching FIPS: 100%|█████████████████████████████████████| 239913/239913 [00:16<00:00, 14287.15it/s]\n"
     ]
    },
    {
     "name": "stdout",
     "output_type": "stream",
     "text": [
      "Finished fetching county FIPS codes.\n",
      "         Observation_ID   Latitude  Longitude  Species_ID  Individual_ID  \\\n",
      "766             3453961  35.648930 -78.816948          82           6552   \n",
      "767             3476283  35.648930 -78.816948          82           6552   \n",
      "768             3504203  35.648930 -78.816948          82           6552   \n",
      "782             5413428  35.648930 -78.816948          82           6552   \n",
      "789             7264750  35.648930 -78.816948          82           6552   \n",
      "...                 ...        ...        ...         ...            ...   \n",
      "1671546        52077347  35.497227 -82.608856          82         351165   \n",
      "1671555        51959040  35.497227 -82.608856          82         351165   \n",
      "1671556        52077346  35.497227 -82.608856          82         351165   \n",
      "1671614        52137296  38.883358 -77.106964        1653         364153   \n",
      "1671615        52137297  38.883358 -77.106964        1653         364153   \n",
      "\n",
      "         Phenophase_ID Phenophase_Category  Phenophase_Description  \\\n",
      "766                371              Leaves      Breaking leaf buds   \n",
      "767                371              Leaves      Breaking leaf buds   \n",
      "768                371              Leaves      Breaking leaf buds   \n",
      "782                371              Leaves      Breaking leaf buds   \n",
      "789                371              Leaves      Breaking leaf buds   \n",
      "...                ...                 ...                     ...   \n",
      "1671546            467              Leaves    Increasing leaf size   \n",
      "1671555            483              Leaves                  Leaves   \n",
      "1671556            483              Leaves                  Leaves   \n",
      "1671614            500             Flowers  Flowers or flower buds   \n",
      "1671615            501             Flowers            Open flowers   \n",
      "\n",
      "                Phenophase_Name  Phenophase_Definition_ID  ...  \\\n",
      "766          Breaking leaf buds                       371  ...   \n",
      "767          Breaking leaf buds                       371  ...   \n",
      "768          Breaking leaf buds                       371  ...   \n",
      "782          Breaking leaf buds                       371  ...   \n",
      "789          Breaking leaf buds                       371  ...   \n",
      "...                         ...                       ...  ...   \n",
      "1671546    Increasing leaf size                       467  ...   \n",
      "1671555                  Leaves                       633  ...   \n",
      "1671556                  Leaves                       633  ...   \n",
      "1671614  Flowers or flower buds                       548  ...   \n",
      "1671615            Open flowers                       501  ...   \n",
      "\n",
      "        Intensity_Category_ID  Intensity_Value  Site_Visit_ID     AGDD  \\\n",
      "766                        39              4.0          61281   599.75   \n",
      "767                        39              4.0          61777   667.00   \n",
      "768                        39              6.0          62239   725.50   \n",
      "782                        39              4.0         106569   688.25   \n",
      "789                        39              4.0         149017   539.75   \n",
      "...                       ...              ...            ...      ...   \n",
      "1671546                    41              9.0         944201 -9999.00   \n",
      "1671555                    73              9.0         942080 -9999.00   \n",
      "1671556                    73              9.0         944201 -9999.00   \n",
      "1671614                    49              2.0         945305 -9999.00   \n",
      "1671615                    50              5.0         945305 -9999.00   \n",
      "\n",
      "           Tmax    Tmin    Prcp  Accum_Prcp  Daylength  county_fips  \n",
      "766        19.0     8.0     0.0       315.0      45274        37183  \n",
      "767        24.5     7.0     0.0       336.0      45965        37183  \n",
      "768        26.0    14.0     0.0       336.0      46310        37183  \n",
      "782        27.5    15.5    69.0       373.0      45965        37183  \n",
      "789        27.5    12.0     0.0       197.0      42509        37183  \n",
      "...         ...     ...     ...         ...        ...          ...  \n",
      "1671546 -9999.0 -9999.0 -9999.0     -9999.0      -9999        37021  \n",
      "1671555 -9999.0 -9999.0 -9999.0     -9999.0      -9999        37021  \n",
      "1671556 -9999.0 -9999.0 -9999.0     -9999.0      -9999        37021  \n",
      "1671614 -9999.0 -9999.0 -9999.0     -9999.0      -9999        51013  \n",
      "1671615 -9999.0 -9999.0 -9999.0     -9999.0      -9999        51013  \n",
      "\n",
      "[239913 rows x 22 columns]\n"
     ]
    }
   ],
   "source": [
    "#using the pollen_df to convert only the correct phenophase data with corresponding lag_long to county ideas\n",
    "#https://geo.fcc.gov/api/census/#!/area/get_area\n",
    "#this will take 1-3 minutues max\n",
    "# and also store a copy to Kathy's personal path (LINE 169 to delete it or change it to your own path)\n",
    "analyzer.lat_long_to_county()\n"
   ]
  },
  {
   "cell_type": "code",
   "execution_count": 9,
   "id": "b737a7c1",
   "metadata": {},
   "outputs": [
    {
     "name": "stdout",
     "output_type": "stream",
     "text": [
      "Land cover types added using hash table.\n",
      "    county_fips        land_cover_type\n",
      "766       37183  Developed, open space\n",
      "767       37183  Developed, open space\n",
      "768       37183  Developed, open space\n",
      "782       37183  Developed, open space\n",
      "789       37183  Developed, open space\n"
     ]
    }
   ],
   "source": [
    "analyzer.add_land_cover_info()"
   ]
  },
  {
   "cell_type": "code",
   "execution_count": 10,
   "id": "b12dc51a",
   "metadata": {},
   "outputs": [
    {
     "name": "stdout",
     "output_type": "stream",
     "text": [
      "Year       Count     \n",
      "--------------------\n",
      "2011       347       \n",
      "2012       1704      \n",
      "2013       6486      \n",
      "2014       5707      \n",
      "2015       7481      \n",
      "2016       17278     \n",
      "2017       15921     \n",
      "2018       16096     \n",
      "2019       22728     \n",
      "2020       12021     \n",
      "2021       36282     \n",
      "2022       40467     \n",
      "2023       30619     \n",
      "2024       22031     \n",
      "2025       4745      \n",
      "final data sets 239913 rows.\n",
      "239913\n"
     ]
    }
   ],
   "source": [
    "# finding the number of data points for each year\n",
    "\n",
    "year_counts = defaultdict(int)\n",
    "\n",
    "# Loop through each date and extract the year\n",
    "for date in analyzer.df[\"Observation_Date\"]:\n",
    "    year = str(date)[:4]  # Get the year part from YYYY-MM-DD\n",
    "    year_counts[year] += 1\n",
    "\n",
    "# Sort by year\n",
    "sorted_years = sorted(year_counts.items())\n",
    "\n",
    "# Print as a clean table\n",
    "print(f\"{'Year':<10} {'Count':<10}\")\n",
    "print(\"-\" * 20)\n",
    "for year, count in sorted_years:\n",
    "    print(f\"{year:<10} {count:<10}\")\n",
    "\n",
    "#check if it match with Pollen-only dataset created with 31935 rows. it does!\n",
    "print(\"final data sets\", len(analyzer.df), \"rows.\") \n",
    "print(len(analyzer.final_df))\n"
   ]
  },
  {
   "cell_type": "code",
   "execution_count": 11,
   "id": "e9919b09",
   "metadata": {},
   "outputs": [
    {
     "name": "stderr",
     "output_type": "stream",
     "text": [
      "Splitting Observation_Date: 100%|██████████| 239913/239913 [00:00<00:00, 716954.63it/s]\n",
      "Splitting Observation_Date: 100%|██████████| 239913/239913 [00:00<00:00, 713300.54it/s]\n",
      "Splitting Observation_Date: 100%|██████████| 239913/239913 [00:00<00:00, 770059.30it/s]\n"
     ]
    },
    {
     "name": "stdout",
     "output_type": "stream",
     "text": [
      "Updated final_df with Year, Month, Day columns and saved to /Applications/Home/2025 Spring/GEOG398E/Project data/dataset-for-roi-2/final_df.csv\n"
     ]
    }
   ],
   "source": [
    "analyzer.split_observation_date()"
   ]
  },
  {
   "cell_type": "code",
   "execution_count": 12,
   "id": "c377d128",
   "metadata": {},
   "outputs": [
    {
     "name": "stdout",
     "output_type": "stream",
     "text": [
      "Index(['Observation_ID', 'Latitude', 'Longitude', 'Species_ID',\n",
      "       'Individual_ID', 'Phenophase_ID', 'Phenophase_Category',\n",
      "       'Phenophase_Description', 'Phenophase_Name', 'Phenophase_Definition_ID',\n",
      "       'Observation_Date', 'Day_of_Year', 'Intensity_Category_ID',\n",
      "       'Intensity_Value', 'Site_Visit_ID', 'AGDD', 'Tmax', 'Tmin', 'Prcp',\n",
      "       'Accum_Prcp', 'Daylength', 'county_fips', 'land_cover_type', 'Year',\n",
      "       'Month', 'Day'],\n",
      "      dtype='object')\n",
      "Index(['Observation_ID', 'Species_ID', 'Phenophase_ID', 'Phenophase_Category',\n",
      "       'Phenophase_Description', 'Phenophase_Definition_ID', 'Day_of_Year',\n",
      "       'Intensity_Category_ID', 'Intensity_Value', 'Site_Visit_ID', 'AGDD',\n",
      "       'Tmax', 'Tmin', 'Prcp', 'Accum_Prcp', 'Daylength', 'county_fips',\n",
      "       'land_cover_type', 'Observation_Date', 'Year', 'Month', 'Day'],\n",
      "      dtype='object')\n"
     ]
    }
   ],
   "source": [
    "print(analyzer.final_df.columns)\n",
    "\n",
    "# Define the exact columns you want to keep\n",
    "columns_to_keep = [\n",
    "    'Observation_ID', 'Species_ID', 'Phenophase_ID', 'Phenophase_Category',\n",
    "    'Phenophase_Description', 'Phenophase_Definition_ID',\n",
    "    'Day_of_Year', 'Intensity_Category_ID', 'Intensity_Value', 'Site_Visit_ID',\n",
    "    'AGDD', 'Tmax', 'Tmin', 'Prcp', 'Accum_Prcp', 'Daylength',\n",
    "    'county_fips', 'land_cover_type', 'Observation_Date', 'Year', 'Month', 'Day'\n",
    "]\n",
    "\n",
    "# Select only these columns\n",
    "cleaned_df = analyzer.final_df[columns_to_keep]\n",
    "\n",
    "# Drop rows with NA or empty Intensity_Value\n",
    "cleaned_df = cleaned_df.dropna(subset=['Intensity_Value'])\n",
    "cleaned_df = cleaned_df[cleaned_df['Intensity_Value'].astype(str).str.strip() != '']\n",
    "\n",
    "# Save the cleaned DataFrame\n",
    "cleaned_df.to_csv(\n",
    "    LOCAL_PATH + \"cleaned_V2.0_status_intensity_observation_data.csv\",\n",
    "    index=False\n",
    ")\n",
    "\n",
    "# Print final columns\n",
    "print(cleaned_df.columns)\n",
    "\n"
   ]
  },
  {
   "cell_type": "code",
   "execution_count": 13,
   "id": "f67662ba",
   "metadata": {},
   "outputs": [
    {
     "name": "stdout",
     "output_type": "stream",
     "text": [
      "Index(['Observation_ID', 'Species_ID', 'Phenophase_ID', 'Phenophase_Category',\n",
      "       'Phenophase_Description', 'Phenophase_Definition_ID', 'Day_of_Year',\n",
      "       'Intensity_Category_ID', 'Intensity_Value', 'Site_Visit_ID', 'AGDD',\n",
      "       'Tmax', 'Tmin', 'Prcp', 'Accum_Prcp', 'Daylength', 'county_fips',\n",
      "       'land_cover_type', 'Observation_Date', 'Year', 'Month', 'Day'],\n",
      "      dtype='object')\n",
      "234268\n"
     ]
    }
   ],
   "source": [
    "# analyzer.final_df[\"Phenophase_Category\"].unique()\n",
    "\n",
    "print(cleaned_df.columns)\n",
    "print(len(cleaned_df))"
   ]
  },
  {
   "cell_type": "code",
   "execution_count": null,
   "id": "b1611804",
   "metadata": {},
   "outputs": [],
   "source": []
  }
 ],
 "metadata": {
  "kernelspec": {
   "display_name": "Python 3",
   "language": "python",
   "name": "python3"
  },
  "language_info": {
   "codemirror_mode": {
    "name": "ipython",
    "version": 3
   },
   "file_extension": ".py",
   "mimetype": "text/x-python",
   "name": "python",
   "nbconvert_exporter": "python",
   "pygments_lexer": "ipython3",
   "version": "3.10.0"
  }
 },
 "nbformat": 4,
 "nbformat_minor": 5
}
