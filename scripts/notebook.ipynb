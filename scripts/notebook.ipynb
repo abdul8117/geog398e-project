{
 "cells": [
  {
   "cell_type": "code",
   "execution_count": 1,
   "id": "f846e057",
   "metadata": {},
   "outputs": [],
   "source": [
    "\n",
    "from PollenDataAnalyzer import PollenDataAnalyzer\n",
    "# %pip install tqdm\n",
    "from collections import defaultdict"
   ]
  },
  {
   "cell_type": "code",
   "execution_count": 2,
   "id": "ced92133",
   "metadata": {},
   "outputs": [],
   "source": [
    "\n",
    "# %pip install matplotlib\n",
    "# from PollenDataAnalyzer import PollenDataAnalyzer\n",
    "\n",
    "# TODOS !!!!\n",
    "# should we change the itensity_mapping, it seem kind of werid that it's all low and high\n",
    "# \n"
   ]
  },
  {
   "cell_type": "code",
   "execution_count": 3,
   "id": "488e151b",
   "metadata": {},
   "outputs": [],
   "source": [
    "LOCAL_PATH = \"/Applications/Home/2025 Spring/GEOG398E/Project data/dataset-for-roi-2/\""
   ]
  },
  {
   "cell_type": "code",
   "execution_count": 4,
   "id": "ba236e13",
   "metadata": {},
   "outputs": [
    {
     "ename": "KeyError",
     "evalue": "'Intensity_Value'",
     "output_type": "error",
     "traceback": [
      "\u001b[0;31m---------------------------------------------------------------------------\u001b[0m",
      "\u001b[0;31mKeyError\u001b[0m                                  Traceback (most recent call last)",
      "File \u001b[0;32m/Library/Frameworks/Python.framework/Versions/3.10/lib/python3.10/site-packages/pandas/core/indexes/base.py:3805\u001b[0m, in \u001b[0;36mIndex.get_loc\u001b[0;34m(self, key)\u001b[0m\n\u001b[1;32m   3804\u001b[0m \u001b[38;5;28;01mtry\u001b[39;00m:\n\u001b[0;32m-> 3805\u001b[0m     \u001b[38;5;28;01mreturn\u001b[39;00m \u001b[38;5;28;43mself\u001b[39;49m\u001b[38;5;241;43m.\u001b[39;49m\u001b[43m_engine\u001b[49m\u001b[38;5;241;43m.\u001b[39;49m\u001b[43mget_loc\u001b[49m\u001b[43m(\u001b[49m\u001b[43mcasted_key\u001b[49m\u001b[43m)\u001b[49m\n\u001b[1;32m   3806\u001b[0m \u001b[38;5;28;01mexcept\u001b[39;00m \u001b[38;5;167;01mKeyError\u001b[39;00m \u001b[38;5;28;01mas\u001b[39;00m err:\n",
      "File \u001b[0;32mindex.pyx:167\u001b[0m, in \u001b[0;36mpandas._libs.index.IndexEngine.get_loc\u001b[0;34m()\u001b[0m\n",
      "File \u001b[0;32mindex.pyx:196\u001b[0m, in \u001b[0;36mpandas._libs.index.IndexEngine.get_loc\u001b[0;34m()\u001b[0m\n",
      "File \u001b[0;32mpandas/_libs/hashtable_class_helper.pxi:7081\u001b[0m, in \u001b[0;36mpandas._libs.hashtable.PyObjectHashTable.get_item\u001b[0;34m()\u001b[0m\n",
      "File \u001b[0;32mpandas/_libs/hashtable_class_helper.pxi:7089\u001b[0m, in \u001b[0;36mpandas._libs.hashtable.PyObjectHashTable.get_item\u001b[0;34m()\u001b[0m\n",
      "\u001b[0;31mKeyError\u001b[0m: 'Intensity_Value'",
      "\nThe above exception was the direct cause of the following exception:\n",
      "\u001b[0;31mKeyError\u001b[0m                                  Traceback (most recent call last)",
      "Cell \u001b[0;32mIn[4], line 4\u001b[0m\n\u001b[1;32m      1\u001b[0m \u001b[38;5;66;03m#!!!download and Change the data_path for your own \"dataset-for-roi/cleaned_status_intensity_observation_data.csv\" path on your local computer\u001b[39;00m\n\u001b[1;32m      2\u001b[0m \u001b[38;5;66;03m#also download and change the land_cover_path\u001b[39;00m\n\u001b[0;32m----> 4\u001b[0m analyzer \u001b[38;5;241m=\u001b[39m \u001b[43mPollenDataAnalyzer\u001b[49m\u001b[43m(\u001b[49m\n\u001b[1;32m      5\u001b[0m \u001b[43m    \u001b[49m\u001b[43mdata_path\u001b[49m\u001b[38;5;241;43m=\u001b[39;49m\u001b[43m \u001b[49m\u001b[43mLOCAL_PATH\u001b[49m\u001b[43m \u001b[49m\u001b[38;5;241;43m+\u001b[39;49m\u001b[43m \u001b[49m\u001b[38;5;124;43m\"\u001b[39;49m\u001b[38;5;124;43mstatus_intensity_observation_data.csv\u001b[39;49m\u001b[38;5;124;43m\"\u001b[39;49m\u001b[43m,\u001b[49m\u001b[43m  \u001b[49m\u001b[38;5;66;43;03m# or the raw CSV\u001b[39;49;00m\n\u001b[1;32m      6\u001b[0m \u001b[43m    \u001b[49m\u001b[43mmapping_path\u001b[49m\u001b[38;5;241;43m=\u001b[39;49m\u001b[38;5;124;43m\"\u001b[39;49m\u001b[38;5;124;43m../intensity_mapping.json\u001b[39;49m\u001b[38;5;124;43m\"\u001b[39;49m\u001b[43m,\u001b[49m\n\u001b[1;32m      7\u001b[0m \u001b[43m    \u001b[49m\u001b[43mPhenophase_path\u001b[49m\u001b[38;5;241;43m=\u001b[39;49m\u001b[38;5;124;43m\"\u001b[39;49m\u001b[38;5;124;43m../Phenophase.json\u001b[39;49m\u001b[38;5;124;43m\"\u001b[39;49m\u001b[43m,\u001b[49m\u001b[43m \u001b[49m\n\u001b[1;32m      8\u001b[0m \u001b[43m    \u001b[49m\u001b[43mland_cover_path\u001b[49m\u001b[43m \u001b[49m\u001b[38;5;241;43m=\u001b[39;49m\u001b[43m \u001b[49m\u001b[43mLOCAL_PATH\u001b[49m\u001b[43m \u001b[49m\u001b[38;5;241;43m+\u001b[39;49m\u001b[43m \u001b[49m\u001b[38;5;124;43m\"\u001b[39;49m\u001b[38;5;124;43mtable_2021_counties_max.csv\u001b[39;49m\u001b[38;5;124;43m\"\u001b[39;49m\u001b[43m,\u001b[49m\n\u001b[1;32m      9\u001b[0m \u001b[43m    \u001b[49m\u001b[43mproject_data_path\u001b[49m\u001b[43m \u001b[49m\u001b[38;5;241;43m=\u001b[39;49m\u001b[43m \u001b[49m\u001b[43mLOCAL_PATH\u001b[49m\n\u001b[1;32m     10\u001b[0m \u001b[43m)\u001b[49m\n",
      "File \u001b[0;32m/Applications/Home/2025 Spring/GEOG398E/geog398e-project/scripts/PollenDataAnalyzer.py:73\u001b[0m, in \u001b[0;36mPollenDataAnalyzer.__init__\u001b[0;34m(self, data_path, mapping_path, Phenophase_path, land_cover_path, project_data_path)\u001b[0m\n\u001b[1;32m     71\u001b[0m \u001b[38;5;28mself\u001b[39m\u001b[38;5;241m.\u001b[39mfips_cache \u001b[38;5;241m=\u001b[39m {}\n\u001b[1;32m     72\u001b[0m \u001b[38;5;28mself\u001b[39m\u001b[38;5;241m.\u001b[39m_load_mapping()\n\u001b[0;32m---> 73\u001b[0m \u001b[38;5;28;43mself\u001b[39;49m\u001b[38;5;241;43m.\u001b[39;49m\u001b[43mload_and_clean_dataset\u001b[49m\u001b[43m(\u001b[49m\u001b[43m)\u001b[49m\n",
      "File \u001b[0;32m/Applications/Home/2025 Spring/GEOG398E/geog398e-project/scripts/PollenDataAnalyzer.py:103\u001b[0m, in \u001b[0;36mPollenDataAnalyzer.load_and_clean_dataset\u001b[0;34m(self)\u001b[0m\n\u001b[1;32m    100\u001b[0m   df \u001b[38;5;241m=\u001b[39m df\u001b[38;5;241m.\u001b[39mdrop(columns\u001b[38;5;241m=\u001b[39m[c \u001b[38;5;28;01mfor\u001b[39;00m c \u001b[38;5;129;01min\u001b[39;00m cols_to_drop \u001b[38;5;28;01mif\u001b[39;00m c \u001b[38;5;129;01min\u001b[39;00m df\u001b[38;5;241m.\u001b[39mcolumns])\n\u001b[1;32m    102\u001b[0m \u001b[38;5;66;03m#something about this need to be changed\u001b[39;00m\n\u001b[0;32m--> 103\u001b[0m   df[\u001b[38;5;124m'\u001b[39m\u001b[38;5;124mIntensity_Value\u001b[39m\u001b[38;5;124m'\u001b[39m] \u001b[38;5;241m=\u001b[39m \u001b[43mdf\u001b[49m\u001b[43m[\u001b[49m\u001b[38;5;124;43m'\u001b[39;49m\u001b[38;5;124;43mIntensity_Value\u001b[39;49m\u001b[38;5;124;43m'\u001b[39;49m\u001b[43m]\u001b[49m\u001b[38;5;241m.\u001b[39mmap(\u001b[38;5;28mself\u001b[39m\u001b[38;5;241m.\u001b[39mintensity_mapping)\n\u001b[1;32m    105\u001b[0m df\u001b[38;5;241m.\u001b[39mto_csv(os\u001b[38;5;241m.\u001b[39mpath\u001b[38;5;241m.\u001b[39mjoin(\u001b[38;5;28mself\u001b[39m\u001b[38;5;241m.\u001b[39mproject_data_path, \u001b[38;5;124m\"\u001b[39m\u001b[38;5;124mcleaned_status_intensity_observation_data.csv\u001b[39m\u001b[38;5;124m\"\u001b[39m)) \u001b[38;5;66;03m#csv \u001b[39;00m\n\u001b[1;32m    106\u001b[0m \u001b[38;5;28mself\u001b[39m\u001b[38;5;241m.\u001b[39mdf \u001b[38;5;241m=\u001b[39m df\n",
      "File \u001b[0;32m/Library/Frameworks/Python.framework/Versions/3.10/lib/python3.10/site-packages/pandas/core/frame.py:4102\u001b[0m, in \u001b[0;36mDataFrame.__getitem__\u001b[0;34m(self, key)\u001b[0m\n\u001b[1;32m   4100\u001b[0m \u001b[38;5;28;01mif\u001b[39;00m \u001b[38;5;28mself\u001b[39m\u001b[38;5;241m.\u001b[39mcolumns\u001b[38;5;241m.\u001b[39mnlevels \u001b[38;5;241m>\u001b[39m \u001b[38;5;241m1\u001b[39m:\n\u001b[1;32m   4101\u001b[0m     \u001b[38;5;28;01mreturn\u001b[39;00m \u001b[38;5;28mself\u001b[39m\u001b[38;5;241m.\u001b[39m_getitem_multilevel(key)\n\u001b[0;32m-> 4102\u001b[0m indexer \u001b[38;5;241m=\u001b[39m \u001b[38;5;28;43mself\u001b[39;49m\u001b[38;5;241;43m.\u001b[39;49m\u001b[43mcolumns\u001b[49m\u001b[38;5;241;43m.\u001b[39;49m\u001b[43mget_loc\u001b[49m\u001b[43m(\u001b[49m\u001b[43mkey\u001b[49m\u001b[43m)\u001b[49m\n\u001b[1;32m   4103\u001b[0m \u001b[38;5;28;01mif\u001b[39;00m is_integer(indexer):\n\u001b[1;32m   4104\u001b[0m     indexer \u001b[38;5;241m=\u001b[39m [indexer]\n",
      "File \u001b[0;32m/Library/Frameworks/Python.framework/Versions/3.10/lib/python3.10/site-packages/pandas/core/indexes/base.py:3812\u001b[0m, in \u001b[0;36mIndex.get_loc\u001b[0;34m(self, key)\u001b[0m\n\u001b[1;32m   3807\u001b[0m     \u001b[38;5;28;01mif\u001b[39;00m \u001b[38;5;28misinstance\u001b[39m(casted_key, \u001b[38;5;28mslice\u001b[39m) \u001b[38;5;129;01mor\u001b[39;00m (\n\u001b[1;32m   3808\u001b[0m         \u001b[38;5;28misinstance\u001b[39m(casted_key, abc\u001b[38;5;241m.\u001b[39mIterable)\n\u001b[1;32m   3809\u001b[0m         \u001b[38;5;129;01mand\u001b[39;00m \u001b[38;5;28many\u001b[39m(\u001b[38;5;28misinstance\u001b[39m(x, \u001b[38;5;28mslice\u001b[39m) \u001b[38;5;28;01mfor\u001b[39;00m x \u001b[38;5;129;01min\u001b[39;00m casted_key)\n\u001b[1;32m   3810\u001b[0m     ):\n\u001b[1;32m   3811\u001b[0m         \u001b[38;5;28;01mraise\u001b[39;00m InvalidIndexError(key)\n\u001b[0;32m-> 3812\u001b[0m     \u001b[38;5;28;01mraise\u001b[39;00m \u001b[38;5;167;01mKeyError\u001b[39;00m(key) \u001b[38;5;28;01mfrom\u001b[39;00m \u001b[38;5;21;01merr\u001b[39;00m\n\u001b[1;32m   3813\u001b[0m \u001b[38;5;28;01mexcept\u001b[39;00m \u001b[38;5;167;01mTypeError\u001b[39;00m:\n\u001b[1;32m   3814\u001b[0m     \u001b[38;5;66;03m# If we have a listlike key, _check_indexing_error will raise\u001b[39;00m\n\u001b[1;32m   3815\u001b[0m     \u001b[38;5;66;03m#  InvalidIndexError. Otherwise we fall through and re-raise\u001b[39;00m\n\u001b[1;32m   3816\u001b[0m     \u001b[38;5;66;03m#  the TypeError.\u001b[39;00m\n\u001b[1;32m   3817\u001b[0m     \u001b[38;5;28mself\u001b[39m\u001b[38;5;241m.\u001b[39m_check_indexing_error(key)\n",
      "\u001b[0;31mKeyError\u001b[0m: 'Intensity_Value'"
     ]
    }
   ],
   "source": [
    "#!!!download and Change the data_path for your own \"dataset-for-roi/cleaned_status_intensity_observation_data.csv\" path on your local computer\n",
    "#also download and change the land_cover_path\n",
    "\n",
    "analyzer = PollenDataAnalyzer(\n",
    "    data_path= LOCAL_PATH + \"status_intensity_observation_data.csv\",  # or the raw CSV\n",
    "    mapping_path=\"../intensity_mapping.json\",\n",
    "    Phenophase_path=\"../Phenophase.json\", \n",
    "    land_cover_path = LOCAL_PATH + \"table_2021_counties_max.csv\",\n",
    "    project_data_path = LOCAL_PATH\n",
    ")"
   ]
  },
  {
   "cell_type": "code",
   "execution_count": null,
   "id": "8a061173",
   "metadata": {},
   "outputs": [
    {
     "data": {
      "text/plain": [
       "<bound method PollenDataAnalyzer.pollen_only of <PollenDataAnalyzer.PollenDataAnalyzer object at 0x123178a90>>"
      ]
     },
     "execution_count": 5,
     "metadata": {},
     "output_type": "execute_result"
    }
   ],
   "source": [
    "# analyzer.map_phenophase_categories()\n",
    "\n",
    "# #first 2 rows\n",
    "# analyzer.df[\"Phenophase_Category\"].head(5)\n",
    "# analyzer.df[\"Phenophase_Category\"].unique()\n",
    "\n",
    "analyzer.pollen_only"
   ]
  },
  {
   "cell_type": "code",
   "execution_count": null,
   "id": "8edf3605",
   "metadata": {},
   "outputs": [
    {
     "name": "stdout",
     "output_type": "stream",
     "text": [
      "Fetching county FIPS codes...\n"
     ]
    },
    {
     "name": "stderr",
     "output_type": "stream",
     "text": [
      "Fetching FIPS: 100%|█████████████████████████████████████| 239913/239913 [00:16<00:00, 14563.95it/s]\n"
     ]
    },
    {
     "name": "stdout",
     "output_type": "stream",
     "text": [
      "Finished fetching county FIPS codes.\n",
      "         Observation_ID   Latitude  Longitude  Species_ID  Individual_ID  \\\n",
      "766             3453961  35.648930 -78.816948          82           6552   \n",
      "767             3476283  35.648930 -78.816948          82           6552   \n",
      "768             3504203  35.648930 -78.816948          82           6552   \n",
      "782             5413428  35.648930 -78.816948          82           6552   \n",
      "789             7264750  35.648930 -78.816948          82           6552   \n",
      "...                 ...        ...        ...         ...            ...   \n",
      "1671546        52077347  35.497227 -82.608856          82         351165   \n",
      "1671555        51959040  35.497227 -82.608856          82         351165   \n",
      "1671556        52077346  35.497227 -82.608856          82         351165   \n",
      "1671614        52137296  38.883358 -77.106964        1653         364153   \n",
      "1671615        52137297  38.883358 -77.106964        1653         364153   \n",
      "\n",
      "         Phenophase_ID Phenophase_Category  Phenophase_Description  \\\n",
      "766                371              Leaves      Breaking leaf buds   \n",
      "767                371              Leaves      Breaking leaf buds   \n",
      "768                371              Leaves      Breaking leaf buds   \n",
      "782                371              Leaves      Breaking leaf buds   \n",
      "789                371              Leaves      Breaking leaf buds   \n",
      "...                ...                 ...                     ...   \n",
      "1671546            467              Leaves    Increasing leaf size   \n",
      "1671555            483              Leaves                  Leaves   \n",
      "1671556            483              Leaves                  Leaves   \n",
      "1671614            500             Flowers  Flowers or flower buds   \n",
      "1671615            501             Flowers            Open flowers   \n",
      "\n",
      "                Phenophase_Name  Phenophase_Definition_ID  ... Day_of_Year  \\\n",
      "766          Breaking leaf buds                       371  ...          96   \n",
      "767          Breaking leaf buds                       371  ...         101   \n",
      "768          Breaking leaf buds                       371  ...         104   \n",
      "782          Breaking leaf buds                       371  ...         100   \n",
      "789          Breaking leaf buds                       371  ...          76   \n",
      "...                         ...                       ...  ...         ...   \n",
      "1671546    Increasing leaf size                       467  ...         105   \n",
      "1671555                  Leaves                       633  ...          98   \n",
      "1671556                  Leaves                       633  ...         105   \n",
      "1671614  Flowers or flower buds                       548  ...         108   \n",
      "1671615            Open flowers                       501  ...         108   \n",
      "\n",
      "         Intensity_Category_ID  Site_Visit_ID     AGDD    Tmax    Tmin  \\\n",
      "766                         39          61281   599.75    19.0     8.0   \n",
      "767                         39          61777   667.00    24.5     7.0   \n",
      "768                         39          62239   725.50    26.0    14.0   \n",
      "782                         39         106569   688.25    27.5    15.5   \n",
      "789                         39         149017   539.75    27.5    12.0   \n",
      "...                        ...            ...      ...     ...     ...   \n",
      "1671546                     41         944201 -9999.00 -9999.0 -9999.0   \n",
      "1671555                     73         942080 -9999.00 -9999.0 -9999.0   \n",
      "1671556                     73         944201 -9999.00 -9999.0 -9999.0   \n",
      "1671614                     49         945305 -9999.00 -9999.0 -9999.0   \n",
      "1671615                     50         945305 -9999.00 -9999.0 -9999.0   \n",
      "\n",
      "           Prcp  Accum_Prcp  Daylength  county_fips  \n",
      "766         0.0       315.0      45274        37183  \n",
      "767         0.0       336.0      45965        37183  \n",
      "768         0.0       336.0      46310        37183  \n",
      "782        69.0       373.0      45965        37183  \n",
      "789         0.0       197.0      42509        37183  \n",
      "...         ...         ...        ...          ...  \n",
      "1671546 -9999.0     -9999.0      -9999        37021  \n",
      "1671555 -9999.0     -9999.0      -9999        37021  \n",
      "1671556 -9999.0     -9999.0      -9999        37021  \n",
      "1671614 -9999.0     -9999.0      -9999        51013  \n",
      "1671615 -9999.0     -9999.0      -9999        51013  \n",
      "\n",
      "[239913 rows x 21 columns]\n"
     ]
    }
   ],
   "source": [
    "#using the pollen_df to convert only the correct phenophase data with corresponding lag_long to county ideas\n",
    "#https://geo.fcc.gov/api/census/#!/area/get_area\n",
    "#this will take 1-3 minutues max\n",
    "# and also store a copy to Kathy's personal path (LINE 169 to delete it or change it to your own path)\n",
    "analyzer.lat_long_to_county()"
   ]
  },
  {
   "cell_type": "code",
   "execution_count": null,
   "id": "b737a7c1",
   "metadata": {},
   "outputs": [
    {
     "name": "stdout",
     "output_type": "stream",
     "text": [
      "Land cover types added using hash table.\n",
      "    county_fips        land_cover_type\n",
      "766       37183  Developed, open space\n",
      "767       37183  Developed, open space\n",
      "768       37183  Developed, open space\n",
      "782       37183  Developed, open space\n",
      "789       37183  Developed, open space\n"
     ]
    }
   ],
   "source": [
    "analyzer.add_land_cover_info()"
   ]
  },
  {
   "cell_type": "code",
   "execution_count": null,
   "id": "b12dc51a",
   "metadata": {},
   "outputs": [
    {
     "name": "stdout",
     "output_type": "stream",
     "text": [
      "Year       Count     \n",
      "--------------------\n",
      "2011       347       \n",
      "2012       1704      \n",
      "2013       6486      \n",
      "2014       5707      \n",
      "2015       7481      \n",
      "2016       17278     \n",
      "2017       15921     \n",
      "2018       16096     \n",
      "2019       22728     \n",
      "2020       12021     \n",
      "2021       36282     \n",
      "2022       40467     \n",
      "2023       30619     \n",
      "2024       22031     \n",
      "2025       4745      \n",
      "final data sets 239913 rows.\n",
      "239913\n"
     ]
    }
   ],
   "source": [
    "# finding the number of data points for each year\n",
    "\n",
    "year_counts = defaultdict(int)\n",
    "\n",
    "# Loop through each date and extract the year\n",
    "for date in analyzer.df[\"Observation_Date\"]:\n",
    "    year = str(date)[:4]  # Get the year part from YYYY-MM-DD\n",
    "    year_counts[year] += 1\n",
    "\n",
    "# Sort by year\n",
    "sorted_years = sorted(year_counts.items())\n",
    "\n",
    "# Print as a clean table\n",
    "print(f\"{'Year':<10} {'Count':<10}\")\n",
    "print(\"-\" * 20)\n",
    "for year, count in sorted_years:\n",
    "    print(f\"{year:<10} {count:<10}\")\n",
    "\n",
    "#check if it match with Pollen-only dataset created with 31935 rows. it does!\n",
    "print(\"final data sets\", len(analyzer.df), \"rows.\") \n",
    "print(len(analyzer.final_df))\n"
   ]
  },
  {
   "cell_type": "code",
   "execution_count": null,
   "id": "c377d128",
   "metadata": {},
   "outputs": [
    {
     "name": "stdout",
     "output_type": "stream",
     "text": [
      "Index(['Observation_ID', 'Latitude', 'Longitude', 'Species_ID',\n",
      "       'Individual_ID', 'Phenophase_ID', 'Phenophase_Category',\n",
      "       'Phenophase_Description', 'Phenophase_Name', 'Phenophase_Definition_ID',\n",
      "       'Observation_Date', 'Day_of_Year', 'Intensity_Category_ID',\n",
      "       'Site_Visit_ID', 'AGDD', 'Tmax', 'Tmin', 'Prcp', 'Accum_Prcp',\n",
      "       'Daylength', 'county_fips', 'land_cover_type'],\n",
      "      dtype='object')\n"
     ]
    }
   ],
   "source": [
    "print(analyzer.df.columns)\n",
    "\n",
    "\n",
    "# Make a copy of the column names\n",
    "columns_to_getrid = analyzer.df.columns.difference(\n",
    "    ['ObservedBy_Person_ID', 'Latitude', 'Longitude', 'Individual_ID', 'Phenophase_Name', 'Site_Visit_ID', 'Plant_Nickname']\n",
    ")\n",
    "\n",
    "# Reorder columns to make 'Observation_ID' the first column\n",
    "columns_reordered = ['Observation_ID'] + [col for col in columns_to_getrid if col != 'Observation_ID']\n",
    "\n",
    "# Create a new DataFrame with the reordered columns\n",
    "cleaned_df = analyzer.df[columns_reordered]\n",
    "\n",
    "# Save the new DataFrame to the specified path\n",
    "cleaned_df.to_csv(\n",
    "    LOCAL_PATH + \"cleaned_V2.0_status_intensity_observation_data.csv\",\n",
    "    index=False\n",
    ")\n"
   ]
  },
  {
   "cell_type": "code",
   "execution_count": null,
   "id": "f67662ba",
   "metadata": {},
   "outputs": [],
   "source": []
  }
 ],
 "metadata": {
  "kernelspec": {
   "display_name": "Python 3",
   "language": "python",
   "name": "python3"
  },
  "language_info": {
   "codemirror_mode": {
    "name": "ipython",
    "version": 3
   },
   "file_extension": ".py",
   "mimetype": "text/x-python",
   "name": "python",
   "nbconvert_exporter": "python",
   "pygments_lexer": "ipython3",
   "version": "3.10.0"
  }
 },
 "nbformat": 4,
 "nbformat_minor": 5
}
