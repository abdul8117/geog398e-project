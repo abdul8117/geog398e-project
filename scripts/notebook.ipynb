{
 "cells": [
  {
   "cell_type": "code",
   "execution_count": null,
   "id": "f846e057",
   "metadata": {},
   "outputs": [],
   "source": [
    "\n",
    "from PollenDataAnalyzer import PollenDataAnalyzer\n",
    "%pip install tqdm\n",
    "from collections import defaultdict\n"
   ]
  },
  {
   "cell_type": "code",
   "execution_count": null,
   "id": "ced92133",
   "metadata": {},
   "outputs": [],
   "source": [
    "\n",
    "# %pip install matplotlib\n",
    "# from PollenDataAnalyzer import PollenDataAnalyzer\n",
    "\n",
    "# TODOS !!!!\n",
    "# should we change the itensity_mapping, it seem kind of werid that it's all low and high\n",
    "# \n"
   ]
  },
  {
   "cell_type": "code",
   "execution_count": null,
   "id": "488e151b",
   "metadata": {},
   "outputs": [],
   "source": [
    "LOCAL_PATH = \"../Project data/\""
   ]
  },
  {
   "cell_type": "code",
   "execution_count": null,
   "id": "ba236e13",
   "metadata": {},
   "outputs": [],
   "source": [
    "#!!!download and Change the data_path for your own \"dataset-for-roi/cleaned_status_intensity_observation_data.csv\" path on your local computer\n",
    "#also download and change the land_cover_path\n",
    "\n",
    "analyzer = PollenDataAnalyzer(\n",
    "    data_path= LOCAL_PATH + \"status_intensity_observation_data.csv\",  # or the raw CSV\n",
    "    mapping_path=\"../intensity_mapping.json\",\n",
    "    Phenophase_path=\"../Phenophase.json\", \n",
    "    land_cover_path = LOCAL_PATH + \"table_2021_counties_max.xlsx\",\n",
    "    project_data_path = LOCAL_PATH\n",
    ")"
   ]
  },
  {
   "cell_type": "code",
   "execution_count": null,
   "id": "8a061173",
   "metadata": {},
   "outputs": [],
   "source": [
    "#first 2 column\n",
    "analyzer.df.head(2)"
   ]
  },
  {
   "cell_type": "code",
   "execution_count": null,
   "id": "7f1a25e1",
   "metadata": {},
   "outputs": [],
   "source": [
    "#checking to see all the unique Phenophases\n",
    "#we would only want the \"Reproductive phenophases\" that is in Phenophase.json\n",
    "analyzer.df[\"Phenophase_Description\"].unique()"
   ]
  },
  {
   "cell_type": "code",
   "execution_count": null,
   "id": "343b1301",
   "metadata": {},
   "outputs": [],
   "source": [
    "#with all the correct mapping of the Phenophases\n",
    "#make self.df pollen only and store it in pollen_df\n",
    "analyzer.pollen_only()"
   ]
  },
  {
   "cell_type": "code",
   "execution_count": null,
   "id": "8edf3605",
   "metadata": {},
   "outputs": [],
   "source": [
    "#using the pollen_df to convert only the correct phenophase data with corresponding lag_long to county ideas\n",
    "#https://geo.fcc.gov/api/census/#!/area/get_area\n",
    "#this will take 1-3 minutues max\n",
    "# and also store a copy to Kathy's personal path (LINE 169 to delete it or change it to your own path)\n",
    "analyzer.lat_long_to_county()"
   ]
  },
  {
   "cell_type": "code",
   "execution_count": null,
   "id": "b737a7c1",
   "metadata": {},
   "outputs": [],
   "source": [
    "analyzer.add_land_cover_info()"
   ]
  },
  {
   "cell_type": "code",
   "execution_count": null,
   "id": "b12dc51a",
   "metadata": {},
   "outputs": [],
   "source": [
    "# finding the number of data points for each year\n",
    "\n",
    "year_counts = defaultdict(int)\n",
    "\n",
    "# Loop through each date and extract the year\n",
    "for date in analyzer.final_df[\"Observation_Date\"]:\n",
    "    year = str(date)[:4]  # Get the year part from YYYY-MM-DD\n",
    "    year_counts[year] += 1\n",
    "\n",
    "# Sort by year\n",
    "sorted_years = sorted(year_counts.items())\n",
    "\n",
    "# Print as a clean table\n",
    "print(f\"{'Year':<10} {'Count':<10}\")\n",
    "print(\"-\" * 20)\n",
    "for year, count in sorted_years:\n",
    "    print(f\"{year:<10} {count:<10}\")\n",
    "\n",
    "#check if it match with Pollen-only dataset created with 31935 rows. it does!\n",
    "print(\"final data sets\", len(analyzer.final_df), \"rows.\") \n"
   ]
  },
  {
   "cell_type": "code",
   "execution_count": null,
   "id": "c377d128",
   "metadata": {},
   "outputs": [],
   "source": [
    "print(analyzer.final_df.columns)\n",
    "\n",
    "\n",
    "# Make a copy of the column names\n",
    "columns_to_getrid = analyzer.final_df.columns.difference(\n",
    "    ['ObservedBy_Person_ID', 'Latitude', 'Longitude', 'Individual_ID', \n",
    "     'Phenophase_Category', 'Phenophase_Name', 'Site_Visit_ID']\n",
    ")\n",
    "\n",
    "# Reorder columns to make 'Observation_ID' the first column\n",
    "columns_reordered = ['Observation_ID'] + [col for col in columns_to_getrid if col != 'Observation_ID']\n",
    "\n",
    "# Create a new DataFrame with the reordered columns\n",
    "cleaned_df = analyzer.final_df[columns_reordered]\n",
    "\n",
    "# Save the new DataFrame to the specified path\n",
    "cleaned_df.to_csv(\n",
    "    LOCAL_PATH + \"cleaned_V1.0_status_intensity_observation_data.csv\",\n",
    "    index=False\n",
    ")\n"
   ]
  },
  {
   "cell_type": "code",
   "execution_count": null,
   "id": "50853083",
   "metadata": {},
   "outputs": [],
   "source": [
    "analyzer.plot_intensity_counts()"
   ]
  },
  {
   "cell_type": "code",
   "execution_count": null,
   "id": "866fe8b9",
   "metadata": {},
   "outputs": [],
   "source": [
    "analyzer.plot_normalized_intensity()"
   ]
  },
  {
   "cell_type": "code",
   "execution_count": null,
   "id": "7770ed18",
   "metadata": {},
   "outputs": [],
   "source": [
    "analyzer.plot_intensity_by_year(2015)"
   ]
  }
 ],
 "metadata": {
  "kernelspec": {
   "display_name": "Python 3",
   "language": "python",
   "name": "python3"
  },
  "language_info": {
   "codemirror_mode": {
    "name": "ipython",
    "version": 3
   },
   "file_extension": ".py",
   "mimetype": "text/x-python",
   "name": "python",
   "nbconvert_exporter": "python",
   "pygments_lexer": "ipython3",
   "version": "3.10.0"
  }
 },
 "nbformat": 4,
 "nbformat_minor": 5
}
