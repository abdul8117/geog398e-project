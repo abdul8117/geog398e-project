{
 "cells": [
  {
   "cell_type": "code",
   "execution_count": 1,
   "id": "f846e057",
   "metadata": {},
   "outputs": [],
   "source": [
    "\n",
    "from PollenDataAnalyzer import PollenDataAnalyzer\n",
    "# %pip install tqdm\n",
    "from collections import defaultdict"
   ]
  },
  {
   "cell_type": "code",
   "execution_count": 2,
   "id": "ced92133",
   "metadata": {},
   "outputs": [],
   "source": [
    "\n",
    "# %pip install matplotlib\n",
    "# from PollenDataAnalyzer import PollenDataAnalyzer\n",
    "\n",
    "# TODOS !!!!\n",
    "# should we change the itensity_mapping, it seem kind of werid that it's all low and high\n",
    "# \n"
   ]
  },
  {
   "cell_type": "code",
   "execution_count": 3,
   "id": "488e151b",
   "metadata": {},
   "outputs": [],
   "source": [
    "LOCAL_PATH = \"../Project data/\""
   ]
  },
  {
   "cell_type": "code",
   "execution_count": 4,
   "id": "ba236e13",
   "metadata": {},
   "outputs": [],
   "source": [
    "#!!!download and Change the data_path for your own \"dataset-for-roi/cleaned_status_intensity_observation_data.csv\" path on your local computer\n",
    "#also download and change the land_cover_path\n",
    "\n",
    "analyzer = PollenDataAnalyzer(\n",
    "    data_path= LOCAL_PATH + \"status_intensity_observation_data.csv\",  # or the raw CSV\n",
    "    mapping_path=\"../intensity_mapping.json\",\n",
    "    Phenophase_path=\"../Phenophase.json\", \n",
    "    land_cover_path = LOCAL_PATH + \"table_2021_counties_max.xlsx\",\n",
    "    project_data_path = LOCAL_PATH\n",
    ")"
   ]
  },
  {
   "cell_type": "code",
   "execution_count": 5,
   "id": "8a061173",
   "metadata": {},
   "outputs": [
    {
     "data": {
      "text/plain": [
       "0    Reproductive\n",
       "1    Reproductive\n",
       "2    Reproductive\n",
       "3    Reproductive\n",
       "4    Reproductive\n",
       "Name: Phenophase_Category, dtype: object"
      ]
     },
     "execution_count": 5,
     "metadata": {},
     "output_type": "execute_result"
    }
   ],
   "source": [
    "analyzer.map_phenophase_categories()\n",
    "\n",
    "#first 2 rows\n",
    "analyzer.df[\"Phenophase_Category\"].head(5)"
   ]
  },
  {
   "cell_type": "code",
   "execution_count": null,
   "id": "7f1a25e1",
   "metadata": {},
   "outputs": [
    {
     "ename": "KeyError",
     "evalue": "'Phenophase_Description'",
     "output_type": "error",
     "traceback": [
      "\u001b[31m---------------------------------------------------------------------------\u001b[39m",
      "\u001b[31mKeyError\u001b[39m                                  Traceback (most recent call last)",
      "\u001b[36mFile \u001b[39m\u001b[32mc:\\Users\\abdul\\OneDrive\\Documents\\GEOG398E Project\\venv\\Lib\\site-packages\\pandas\\core\\indexes\\base.py:3805\u001b[39m, in \u001b[36mIndex.get_loc\u001b[39m\u001b[34m(self, key)\u001b[39m\n\u001b[32m   3804\u001b[39m \u001b[38;5;28;01mtry\u001b[39;00m:\n\u001b[32m-> \u001b[39m\u001b[32m3805\u001b[39m     \u001b[38;5;28;01mreturn\u001b[39;00m \u001b[38;5;28;43mself\u001b[39;49m\u001b[43m.\u001b[49m\u001b[43m_engine\u001b[49m\u001b[43m.\u001b[49m\u001b[43mget_loc\u001b[49m\u001b[43m(\u001b[49m\u001b[43mcasted_key\u001b[49m\u001b[43m)\u001b[49m\n\u001b[32m   3806\u001b[39m \u001b[38;5;28;01mexcept\u001b[39;00m \u001b[38;5;167;01mKeyError\u001b[39;00m \u001b[38;5;28;01mas\u001b[39;00m err:\n",
      "\u001b[36mFile \u001b[39m\u001b[32mindex.pyx:167\u001b[39m, in \u001b[36mpandas._libs.index.IndexEngine.get_loc\u001b[39m\u001b[34m()\u001b[39m\n",
      "\u001b[36mFile \u001b[39m\u001b[32mindex.pyx:196\u001b[39m, in \u001b[36mpandas._libs.index.IndexEngine.get_loc\u001b[39m\u001b[34m()\u001b[39m\n",
      "\u001b[36mFile \u001b[39m\u001b[32mpandas\\\\_libs\\\\hashtable_class_helper.pxi:7081\u001b[39m, in \u001b[36mpandas._libs.hashtable.PyObjectHashTable.get_item\u001b[39m\u001b[34m()\u001b[39m\n",
      "\u001b[36mFile \u001b[39m\u001b[32mpandas\\\\_libs\\\\hashtable_class_helper.pxi:7089\u001b[39m, in \u001b[36mpandas._libs.hashtable.PyObjectHashTable.get_item\u001b[39m\u001b[34m()\u001b[39m\n",
      "\u001b[31mKeyError\u001b[39m: 'Phenophase_Description'",
      "\nThe above exception was the direct cause of the following exception:\n",
      "\u001b[31mKeyError\u001b[39m                                  Traceback (most recent call last)",
      "\u001b[36mCell\u001b[39m\u001b[36m \u001b[39m\u001b[32mIn[6]\u001b[39m\u001b[32m, line 3\u001b[39m\n\u001b[32m      1\u001b[39m \u001b[38;5;66;03m#checking to see all the unique Phenophases\u001b[39;00m\n\u001b[32m      2\u001b[39m \u001b[38;5;66;03m#we would only want the \"Reproductive phenophases\" that is in Phenophase.json\u001b[39;00m\n\u001b[32m----> \u001b[39m\u001b[32m3\u001b[39m \u001b[43manalyzer\u001b[49m\u001b[43m.\u001b[49m\u001b[43mdf\u001b[49m\u001b[43m[\u001b[49m\u001b[33;43m\"\u001b[39;49m\u001b[33;43mPhenophase_Description\u001b[39;49m\u001b[33;43m\"\u001b[39;49m\u001b[43m]\u001b[49m.unique()\n",
      "\u001b[36mFile \u001b[39m\u001b[32mc:\\Users\\abdul\\OneDrive\\Documents\\GEOG398E Project\\venv\\Lib\\site-packages\\pandas\\core\\frame.py:4102\u001b[39m, in \u001b[36mDataFrame.__getitem__\u001b[39m\u001b[34m(self, key)\u001b[39m\n\u001b[32m   4100\u001b[39m \u001b[38;5;28;01mif\u001b[39;00m \u001b[38;5;28mself\u001b[39m.columns.nlevels > \u001b[32m1\u001b[39m:\n\u001b[32m   4101\u001b[39m     \u001b[38;5;28;01mreturn\u001b[39;00m \u001b[38;5;28mself\u001b[39m._getitem_multilevel(key)\n\u001b[32m-> \u001b[39m\u001b[32m4102\u001b[39m indexer = \u001b[38;5;28;43mself\u001b[39;49m\u001b[43m.\u001b[49m\u001b[43mcolumns\u001b[49m\u001b[43m.\u001b[49m\u001b[43mget_loc\u001b[49m\u001b[43m(\u001b[49m\u001b[43mkey\u001b[49m\u001b[43m)\u001b[49m\n\u001b[32m   4103\u001b[39m \u001b[38;5;28;01mif\u001b[39;00m is_integer(indexer):\n\u001b[32m   4104\u001b[39m     indexer = [indexer]\n",
      "\u001b[36mFile \u001b[39m\u001b[32mc:\\Users\\abdul\\OneDrive\\Documents\\GEOG398E Project\\venv\\Lib\\site-packages\\pandas\\core\\indexes\\base.py:3812\u001b[39m, in \u001b[36mIndex.get_loc\u001b[39m\u001b[34m(self, key)\u001b[39m\n\u001b[32m   3807\u001b[39m     \u001b[38;5;28;01mif\u001b[39;00m \u001b[38;5;28misinstance\u001b[39m(casted_key, \u001b[38;5;28mslice\u001b[39m) \u001b[38;5;129;01mor\u001b[39;00m (\n\u001b[32m   3808\u001b[39m         \u001b[38;5;28misinstance\u001b[39m(casted_key, abc.Iterable)\n\u001b[32m   3809\u001b[39m         \u001b[38;5;129;01mand\u001b[39;00m \u001b[38;5;28many\u001b[39m(\u001b[38;5;28misinstance\u001b[39m(x, \u001b[38;5;28mslice\u001b[39m) \u001b[38;5;28;01mfor\u001b[39;00m x \u001b[38;5;129;01min\u001b[39;00m casted_key)\n\u001b[32m   3810\u001b[39m     ):\n\u001b[32m   3811\u001b[39m         \u001b[38;5;28;01mraise\u001b[39;00m InvalidIndexError(key)\n\u001b[32m-> \u001b[39m\u001b[32m3812\u001b[39m     \u001b[38;5;28;01mraise\u001b[39;00m \u001b[38;5;167;01mKeyError\u001b[39;00m(key) \u001b[38;5;28;01mfrom\u001b[39;00m\u001b[38;5;250m \u001b[39m\u001b[34;01merr\u001b[39;00m\n\u001b[32m   3813\u001b[39m \u001b[38;5;28;01mexcept\u001b[39;00m \u001b[38;5;167;01mTypeError\u001b[39;00m:\n\u001b[32m   3814\u001b[39m     \u001b[38;5;66;03m# If we have a listlike key, _check_indexing_error will raise\u001b[39;00m\n\u001b[32m   3815\u001b[39m     \u001b[38;5;66;03m#  InvalidIndexError. Otherwise we fall through and re-raise\u001b[39;00m\n\u001b[32m   3816\u001b[39m     \u001b[38;5;66;03m#  the TypeError.\u001b[39;00m\n\u001b[32m   3817\u001b[39m     \u001b[38;5;28mself\u001b[39m._check_indexing_error(key)\n",
      "\u001b[31mKeyError\u001b[39m: 'Phenophase_Description'"
     ]
    }
   ],
   "source": [
    "#checking to see all the unique Phenophases\n",
    "#we would only want the \"Reproductive phenophases\" that is in Phenophase.json\n",
    "# analyzer.df[\"Phenophase_Description\"].unique()"
   ]
  },
  {
   "cell_type": "code",
   "execution_count": null,
   "id": "be7aed25",
   "metadata": {},
   "outputs": [
    {
     "data": {
      "text/plain": [
       "array(['Reproductive', 'Flowers', 'Leaves', 'Vegetative', 'Fruit/seed',\n",
       "       'Fruits'], dtype=object)"
      ]
     },
     "execution_count": 17,
     "metadata": {},
     "output_type": "execute_result"
    }
   ],
   "source": [
    "analyzer.df[\"Phenophase_Category\"].unique()"
   ]
  },
  {
   "cell_type": "code",
   "execution_count": null,
   "id": "343b1301",
   "metadata": {},
   "outputs": [],
   "source": [
    "#with all the correct mapping of the Phenophases\n",
    "#make self.df pollen only and store it in pollen_df\n",
    "# analyzer.pollen_only()"
   ]
  },
  {
   "cell_type": "code",
   "execution_count": null,
   "id": "8edf3605",
   "metadata": {},
   "outputs": [
    {
     "name": "stdout",
     "output_type": "stream",
     "text": [
      "Fetching county FIPS codes...\n"
     ]
    },
    {
     "name": "stderr",
     "output_type": "stream",
     "text": [
      "Fetching FIPS: 100%|███████████████████████████████████| 1671618/1671618 [00:20<00:00, 82454.16it/s]\n"
     ]
    },
    {
     "name": "stdout",
     "output_type": "stream",
     "text": [
      "Finished fetching county FIPS codes.\n",
      "         Observation_ID   Latitude  Longitude State  Species_ID  \\\n",
      "0                 42749  37.545090 -75.927589    VA          36   \n",
      "1                 42749  37.545090 -75.927589    VA          36   \n",
      "2                 42744  37.545090 -75.927589    VA          36   \n",
      "3                 42744  37.545090 -75.927589    VA          36   \n",
      "4                 42739  37.545090 -75.927589    VA          36   \n",
      "...                 ...        ...        ...   ...         ...   \n",
      "1671613        52137295  38.883358 -77.106964    VA        1653   \n",
      "1671614        52137296  38.883358 -77.106964    VA        1653   \n",
      "1671615        52137297  38.883358 -77.106964    VA        1653   \n",
      "1671616        52137300  38.883358 -77.106964    VA        1653   \n",
      "1671617        52137298  38.883358 -77.106964    VA        1653   \n",
      "\n",
      "         Individual_ID  Plant_Nickname  Phenophase_ID Phenophase_Category  \\\n",
      "0                  907  XVII-D-16(114)            205        Reproductive   \n",
      "1                  907  XVII-D-16(114)            205        Reproductive   \n",
      "2                  907  XVII-D-16(114)            205        Reproductive   \n",
      "3                  907  XVII-D-16(114)            205        Reproductive   \n",
      "4                  907  XVII-D-16(114)            205        Reproductive   \n",
      "...                ...             ...            ...                 ...   \n",
      "1671613         364153  golden zizia-1            488          Vegetative   \n",
      "1671614         364153  golden zizia-1            500        Reproductive   \n",
      "1671615         364153  golden zizia-1            501        Reproductive   \n",
      "1671616         364153  golden zizia-1            504          Fruit/seed   \n",
      "1671617         364153  golden zizia-1            516          Fruit/seed   \n",
      "\n",
      "            Phenophase_Description  ... Day_of_Year  Intensity_Category_ID  \\\n",
      "0             Open flowers (lilac)  ...          75                  -9999   \n",
      "1             Open flowers (lilac)  ...          75                  -9999   \n",
      "2             Open flowers (lilac)  ...          79                  -9999   \n",
      "3             Open flowers (lilac)  ...          79                  -9999   \n",
      "4             Open flowers (lilac)  ...         101                  -9999   \n",
      "...                            ...  ...         ...                    ...   \n",
      "1671613             Leaves (forbs)  ...         108                  -9999   \n",
      "1671614     Flowers or flower buds  ...         108                     49   \n",
      "1671615               Open flowers  ...         108                     50   \n",
      "1671616  Recent fruit or seed drop  ...         108                     60   \n",
      "1671617                     Fruits  ...         108                     57   \n",
      "\n",
      "        Site_Visit_ID     AGDD    Tmax    Tmin    Prcp  Accum_Prcp  Daylength  \\\n",
      "0              397157   350.00     9.0     5.5     7.0       140.0      42163   \n",
      "1              397157   350.00     9.0     5.5     7.0       140.0      42163   \n",
      "2              397156   383.75    13.0     4.0     3.0       153.0      42854   \n",
      "3              397156   383.75    13.0     4.0     3.0       153.0      42854   \n",
      "4              397155   620.50    22.0     9.5     6.0       219.0      46310   \n",
      "...               ...      ...     ...     ...     ...         ...        ...   \n",
      "1671613        945305 -9999.00 -9999.0 -9999.0 -9999.0     -9999.0      -9999   \n",
      "1671614        945305 -9999.00 -9999.0 -9999.0 -9999.0     -9999.0      -9999   \n",
      "1671615        945305 -9999.00 -9999.0 -9999.0 -9999.0     -9999.0      -9999   \n",
      "1671616        945305 -9999.00 -9999.0 -9999.0 -9999.0     -9999.0      -9999   \n",
      "1671617        945305 -9999.00 -9999.0 -9999.0 -9999.0     -9999.0      -9999   \n",
      "\n",
      "         county_fips  \n",
      "0              51131  \n",
      "1              51131  \n",
      "2              51131  \n",
      "3              51131  \n",
      "4              51131  \n",
      "...              ...  \n",
      "1671613        51013  \n",
      "1671614        51013  \n",
      "1671615        51013  \n",
      "1671616        51013  \n",
      "1671617        51013  \n",
      "\n",
      "[1671618 rows x 23 columns]\n"
     ]
    }
   ],
   "source": [
    "#using the pollen_df to convert only the correct phenophase data with corresponding lag_long to county ideas\n",
    "#https://geo.fcc.gov/api/census/#!/area/get_area\n",
    "#this will take 1-3 minutues max\n",
    "# and also store a copy to Kathy's personal path (LINE 169 to delete it or change it to your own path)\n",
    "analyzer.lat_long_to_county()"
   ]
  },
  {
   "cell_type": "code",
   "execution_count": null,
   "id": "b737a7c1",
   "metadata": {},
   "outputs": [
    {
     "name": "stdout",
     "output_type": "stream",
     "text": [
      "Land cover types added using hash table.\n",
      "  county_fips   land_cover_type\n",
      "0       51131  Cultivated crops\n",
      "1       51131  Cultivated crops\n",
      "2       51131  Cultivated crops\n",
      "3       51131  Cultivated crops\n",
      "4       51131  Cultivated crops\n"
     ]
    }
   ],
   "source": [
    "analyzer.add_land_cover_info()"
   ]
  },
  {
   "cell_type": "code",
   "execution_count": null,
   "id": "b12dc51a",
   "metadata": {},
   "outputs": [
    {
     "name": "stdout",
     "output_type": "stream",
     "text": [
      "Year       Count     \n",
      "--------------------\n",
      "2000       19        \n",
      "2001       749       \n",
      "2006       20        \n",
      "2009       253       \n",
      "2010       255       \n",
      "2011       3302      \n",
      "2012       12966     \n",
      "2013       39927     \n",
      "2014       48343     \n",
      "2015       49666     \n",
      "2016       111549    \n",
      "2017       105471    \n",
      "2018       124559    \n",
      "2019       161209    \n",
      "2020       99650     \n",
      "2021       249501    \n",
      "2022       238439    \n",
      "2023       219212    \n",
      "2024       146395    \n",
      "2025       60133     \n",
      "final data sets 1671618 rows.\n"
     ]
    }
   ],
   "source": [
    "# finding the number of data points for each year\n",
    "\n",
    "year_counts = defaultdict(int)\n",
    "\n",
    "# Loop through each date and extract the year\n",
    "for date in analyzer.df[\"Observation_Date\"]:\n",
    "    year = str(date)[:4]  # Get the year part from YYYY-MM-DD\n",
    "    year_counts[year] += 1\n",
    "\n",
    "# Sort by year\n",
    "sorted_years = sorted(year_counts.items())\n",
    "\n",
    "# Print as a clean table\n",
    "print(f\"{'Year':<10} {'Count':<10}\")\n",
    "print(\"-\" * 20)\n",
    "for year, count in sorted_years:\n",
    "    print(f\"{year:<10} {count:<10}\")\n",
    "\n",
    "#check if it match with Pollen-only dataset created with 31935 rows. it does!\n",
    "print(\"final data sets\", len(analyzer.df), \"rows.\") \n"
   ]
  },
  {
   "cell_type": "code",
   "execution_count": null,
   "id": "9a779c5f",
   "metadata": {},
   "outputs": [
    {
     "data": {
      "text/plain": [
       "0    2009-03-16\n",
       "1    2009-03-16\n",
       "Name: Observation_Date, dtype: object"
      ]
     },
     "execution_count": 12,
     "metadata": {},
     "output_type": "execute_result"
    }
   ],
   "source": [
    "analyzer.df[\"Observation_Date\"].head(2)"
   ]
  },
  {
   "cell_type": "code",
   "execution_count": null,
   "id": "c377d128",
   "metadata": {},
   "outputs": [
    {
     "name": "stdout",
     "output_type": "stream",
     "text": [
      "Index(['Observation_ID', 'Latitude', 'Longitude', 'State', 'Species_ID',\n",
      "       'Individual_ID', 'Plant_Nickname', 'Phenophase_ID',\n",
      "       'Phenophase_Category', 'Phenophase_Description', 'Phenophase_Name',\n",
      "       'Phenophase_Definition_ID', 'Observation_Date', 'Day_of_Year',\n",
      "       'Intensity_Category_ID', 'Site_Visit_ID', 'AGDD', 'Tmax', 'Tmin',\n",
      "       'Prcp', 'Accum_Prcp', 'Daylength', 'county_fips', 'land_cover_type'],\n",
      "      dtype='object')\n"
     ]
    }
   ],
   "source": [
    "print(analyzer.df.columns)\n",
    "\n",
    "\n",
    "# Make a copy of the column names\n",
    "columns_to_getrid = analyzer.df.columns.difference(\n",
    "    ['ObservedBy_Person_ID', 'Latitude', 'Longitude', 'Individual_ID', \n",
    "     'Phenophase_Description', 'Phenophase_Name', 'Site_Visit_ID', 'Plant_Nickname']\n",
    ")\n",
    "\n",
    "# Reorder columns to make 'Observation_ID' the first column\n",
    "columns_reordered = ['Observation_ID'] + [col for col in columns_to_getrid if col != 'Observation_ID']\n",
    "\n",
    "# Create a new DataFrame with the reordered columns\n",
    "cleaned_df = analyzer.df[columns_reordered]\n",
    "\n",
    "# Save the new DataFrame to the specified path\n",
    "cleaned_df.to_csv(\n",
    "    LOCAL_PATH + \"cleaned_V2.0_status_intensity_observation_data.csv\",\n",
    "    index=False\n",
    ")\n"
   ]
  },
  {
   "cell_type": "code",
   "execution_count": null,
   "id": "50853083",
   "metadata": {},
   "outputs": [],
   "source": [
    "categories = [\"Reproductive\", \"Vegetation\", \"Fruits/seed\"]\n",
    "\n",
    "# Get indices of rows to drop (where category is not in the list)\n",
    "rows_to_drop = analyzer.df[~analyzer.df[\"Phenophase_Category\"].isin(categories)].index\n",
    "\n",
    "# drop state\n",
    "df = analyzer.df.drop(\"State\", axis=1)\n",
    "\n",
    "# Drop them\n",
    "df = analyzer.df.drop(rows_to_drop)"
   ]
  },
  {
   "cell_type": "code",
   "execution_count": null,
   "id": "834180d5",
   "metadata": {},
   "outputs": [
    {
     "data": {
      "text/html": [
       "<div>\n",
       "<style scoped>\n",
       "    .dataframe tbody tr th:only-of-type {\n",
       "        vertical-align: middle;\n",
       "    }\n",
       "\n",
       "    .dataframe tbody tr th {\n",
       "        vertical-align: top;\n",
       "    }\n",
       "\n",
       "    .dataframe thead th {\n",
       "        text-align: right;\n",
       "    }\n",
       "</style>\n",
       "<table border=\"1\" class=\"dataframe\">\n",
       "  <thead>\n",
       "    <tr style=\"text-align: right;\">\n",
       "      <th></th>\n",
       "      <th>Observation_ID</th>\n",
       "      <th>Latitude</th>\n",
       "      <th>Longitude</th>\n",
       "      <th>State</th>\n",
       "      <th>Species_ID</th>\n",
       "      <th>Individual_ID</th>\n",
       "      <th>Plant_Nickname</th>\n",
       "      <th>Phenophase_ID</th>\n",
       "      <th>Phenophase_Category</th>\n",
       "      <th>Phenophase_Description</th>\n",
       "      <th>...</th>\n",
       "      <th>Intensity_Category_ID</th>\n",
       "      <th>Site_Visit_ID</th>\n",
       "      <th>AGDD</th>\n",
       "      <th>Tmax</th>\n",
       "      <th>Tmin</th>\n",
       "      <th>Prcp</th>\n",
       "      <th>Accum_Prcp</th>\n",
       "      <th>Daylength</th>\n",
       "      <th>county_fips</th>\n",
       "      <th>land_cover_type</th>\n",
       "    </tr>\n",
       "  </thead>\n",
       "  <tbody>\n",
       "    <tr>\n",
       "      <th>0</th>\n",
       "      <td>42749</td>\n",
       "      <td>37.54509</td>\n",
       "      <td>-75.927589</td>\n",
       "      <td>VA</td>\n",
       "      <td>36</td>\n",
       "      <td>907</td>\n",
       "      <td>XVII-D-16(114)</td>\n",
       "      <td>205</td>\n",
       "      <td>Reproductive</td>\n",
       "      <td>Open flowers (lilac)</td>\n",
       "      <td>...</td>\n",
       "      <td>-9999</td>\n",
       "      <td>397157</td>\n",
       "      <td>350.0</td>\n",
       "      <td>9.0</td>\n",
       "      <td>5.5</td>\n",
       "      <td>7.0</td>\n",
       "      <td>140.0</td>\n",
       "      <td>42163</td>\n",
       "      <td>51131</td>\n",
       "      <td>Cultivated crops</td>\n",
       "    </tr>\n",
       "  </tbody>\n",
       "</table>\n",
       "<p>1 rows × 24 columns</p>\n",
       "</div>"
      ],
      "text/plain": [
       "   Observation_ID  Latitude  Longitude State  Species_ID  Individual_ID  \\\n",
       "0           42749  37.54509 -75.927589    VA          36            907   \n",
       "\n",
       "   Plant_Nickname  Phenophase_ID Phenophase_Category Phenophase_Description  \\\n",
       "0  XVII-D-16(114)            205        Reproductive   Open flowers (lilac)   \n",
       "\n",
       "   ... Intensity_Category_ID  Site_Visit_ID   AGDD  Tmax  Tmin  Prcp  \\\n",
       "0  ...                 -9999         397157  350.0   9.0   5.5   7.0   \n",
       "\n",
       "   Accum_Prcp  Daylength  county_fips   land_cover_type  \n",
       "0       140.0      42163        51131  Cultivated crops  \n",
       "\n",
       "[1 rows x 24 columns]"
      ]
     },
     "execution_count": 24,
     "metadata": {},
     "output_type": "execute_result"
    }
   ],
   "source": [
    "df.to_csv(r\"C:\\Users\\abdul\\OneDrive\\Documents\\GEOG398E Project\\Project data\\cleaned_V2.0_status_intensity_observation_data.csv\")\n",
    "\n",
    "df.head(1)"
   ]
  },
  {
   "cell_type": "code",
   "execution_count": null,
   "id": "866fe8b9",
   "metadata": {},
   "outputs": [],
   "source": [
    "# analyzer.plot_normalized_intensity()"
   ]
  },
  {
   "cell_type": "code",
   "execution_count": null,
   "id": "7770ed18",
   "metadata": {},
   "outputs": [],
   "source": [
    "# analyzer.plot_intensity_by_year(2015)"
   ]
  }
 ],
 "metadata": {
  "kernelspec": {
   "display_name": "venv",
   "language": "python",
   "name": "python3"
  },
  "language_info": {
   "codemirror_mode": {
    "name": "ipython",
    "version": 3
   },
   "file_extension": ".py",
   "mimetype": "text/x-python",
   "name": "python",
   "nbconvert_exporter": "python",
   "pygments_lexer": "ipython3",
   "version": "3.12.3"
  }
 },
 "nbformat": 4,
 "nbformat_minor": 5
}
