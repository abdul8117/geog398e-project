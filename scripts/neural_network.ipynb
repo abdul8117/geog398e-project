{
 "cells": [
  {
   "cell_type": "code",
   "execution_count": 283,
   "id": "476c8f19",
   "metadata": {},
   "outputs": [],
   "source": [
    "import tensorflow as tf\n",
    "import numpy as np\n",
    "import pandas as pd\n",
    "\n",
    "from sklearn.model_selection import train_test_split\n",
    "\n",
    "from sklearn.preprocessing import StandardScaler, OneHotEncoder"
   ]
  },
  {
   "cell_type": "code",
   "execution_count": null,
   "id": "de1013a5",
   "metadata": {},
   "outputs": [],
   "source": [
    "PATH = r\"C:\\Users\\abdul\\OneDrive\\Documents\\GEOG398E Project\\datasets\\cleaned_V2.0_status_intensity_observation_data.csv\"\n",
    "\n",
    "df = pd.read_csv(PATH)"
   ]
  },
  {
   "cell_type": "code",
   "execution_count": 300,
   "id": "16708e7c",
   "metadata": {},
   "outputs": [
    {
     "ename": "KeyError",
     "evalue": "'Observation_Date'",
     "output_type": "error",
     "traceback": [
      "\u001b[31m---------------------------------------------------------------------------\u001b[39m",
      "\u001b[31mKeyError\u001b[39m                                  Traceback (most recent call last)",
      "\u001b[36mFile \u001b[39m\u001b[32mc:\\Users\\abdul\\OneDrive\\Documents\\GEOG398E Project\\venv\\Lib\\site-packages\\pandas\\core\\indexes\\base.py:3805\u001b[39m, in \u001b[36mIndex.get_loc\u001b[39m\u001b[34m(self, key)\u001b[39m\n\u001b[32m   3804\u001b[39m \u001b[38;5;28;01mtry\u001b[39;00m:\n\u001b[32m-> \u001b[39m\u001b[32m3805\u001b[39m     \u001b[38;5;28;01mreturn\u001b[39;00m \u001b[38;5;28;43mself\u001b[39;49m\u001b[43m.\u001b[49m\u001b[43m_engine\u001b[49m\u001b[43m.\u001b[49m\u001b[43mget_loc\u001b[49m\u001b[43m(\u001b[49m\u001b[43mcasted_key\u001b[49m\u001b[43m)\u001b[49m\n\u001b[32m   3806\u001b[39m \u001b[38;5;28;01mexcept\u001b[39;00m \u001b[38;5;167;01mKeyError\u001b[39;00m \u001b[38;5;28;01mas\u001b[39;00m err:\n",
      "\u001b[36mFile \u001b[39m\u001b[32mindex.pyx:167\u001b[39m, in \u001b[36mpandas._libs.index.IndexEngine.get_loc\u001b[39m\u001b[34m()\u001b[39m\n",
      "\u001b[36mFile \u001b[39m\u001b[32mindex.pyx:196\u001b[39m, in \u001b[36mpandas._libs.index.IndexEngine.get_loc\u001b[39m\u001b[34m()\u001b[39m\n",
      "\u001b[36mFile \u001b[39m\u001b[32mpandas\\\\_libs\\\\hashtable_class_helper.pxi:7081\u001b[39m, in \u001b[36mpandas._libs.hashtable.PyObjectHashTable.get_item\u001b[39m\u001b[34m()\u001b[39m\n",
      "\u001b[36mFile \u001b[39m\u001b[32mpandas\\\\_libs\\\\hashtable_class_helper.pxi:7089\u001b[39m, in \u001b[36mpandas._libs.hashtable.PyObjectHashTable.get_item\u001b[39m\u001b[34m()\u001b[39m\n",
      "\u001b[31mKeyError\u001b[39m: 'Observation_Date'",
      "\nThe above exception was the direct cause of the following exception:\n",
      "\u001b[31mKeyError\u001b[39m                                  Traceback (most recent call last)",
      "\u001b[36mCell\u001b[39m\u001b[36m \u001b[39m\u001b[32mIn[300]\u001b[39m\u001b[32m, line 2\u001b[39m\n\u001b[32m      1\u001b[39m \u001b[38;5;66;03m#make a new df for training usign the observation date to only get years 2011 - 2022\u001b[39;00m\n\u001b[32m----> \u001b[39m\u001b[32m2\u001b[39m df_train = df[\u001b[43mdf\u001b[49m\u001b[43m[\u001b[49m\u001b[33;43m'\u001b[39;49m\u001b[33;43mObservation_Date\u001b[39;49m\u001b[33;43m'\u001b[39;49m\u001b[43m]\u001b[49m.str.contains(\u001b[33m'\u001b[39m\u001b[33m2011|2012|2013|2014|2015|2016|2017|2018|2019|2020|2021|2022\u001b[39m\u001b[33m'\u001b[39m)]\n\u001b[32m      3\u001b[39m \u001b[38;5;66;03m#make new df for ground truth information taking just from 2023 from observation date which is year-month-day\u001b[39;00m\n\u001b[32m      4\u001b[39m df_gt = df[df[\u001b[33m'\u001b[39m\u001b[33mObservation_Date\u001b[39m\u001b[33m'\u001b[39m].str.contains(\u001b[33m'\u001b[39m\u001b[33m2023|2024\u001b[39m\u001b[33m'\u001b[39m)]\n",
      "\u001b[36mFile \u001b[39m\u001b[32mc:\\Users\\abdul\\OneDrive\\Documents\\GEOG398E Project\\venv\\Lib\\site-packages\\pandas\\core\\frame.py:4102\u001b[39m, in \u001b[36mDataFrame.__getitem__\u001b[39m\u001b[34m(self, key)\u001b[39m\n\u001b[32m   4100\u001b[39m \u001b[38;5;28;01mif\u001b[39;00m \u001b[38;5;28mself\u001b[39m.columns.nlevels > \u001b[32m1\u001b[39m:\n\u001b[32m   4101\u001b[39m     \u001b[38;5;28;01mreturn\u001b[39;00m \u001b[38;5;28mself\u001b[39m._getitem_multilevel(key)\n\u001b[32m-> \u001b[39m\u001b[32m4102\u001b[39m indexer = \u001b[38;5;28;43mself\u001b[39;49m\u001b[43m.\u001b[49m\u001b[43mcolumns\u001b[49m\u001b[43m.\u001b[49m\u001b[43mget_loc\u001b[49m\u001b[43m(\u001b[49m\u001b[43mkey\u001b[49m\u001b[43m)\u001b[49m\n\u001b[32m   4103\u001b[39m \u001b[38;5;28;01mif\u001b[39;00m is_integer(indexer):\n\u001b[32m   4104\u001b[39m     indexer = [indexer]\n",
      "\u001b[36mFile \u001b[39m\u001b[32mc:\\Users\\abdul\\OneDrive\\Documents\\GEOG398E Project\\venv\\Lib\\site-packages\\pandas\\core\\indexes\\base.py:3812\u001b[39m, in \u001b[36mIndex.get_loc\u001b[39m\u001b[34m(self, key)\u001b[39m\n\u001b[32m   3807\u001b[39m     \u001b[38;5;28;01mif\u001b[39;00m \u001b[38;5;28misinstance\u001b[39m(casted_key, \u001b[38;5;28mslice\u001b[39m) \u001b[38;5;129;01mor\u001b[39;00m (\n\u001b[32m   3808\u001b[39m         \u001b[38;5;28misinstance\u001b[39m(casted_key, abc.Iterable)\n\u001b[32m   3809\u001b[39m         \u001b[38;5;129;01mand\u001b[39;00m \u001b[38;5;28many\u001b[39m(\u001b[38;5;28misinstance\u001b[39m(x, \u001b[38;5;28mslice\u001b[39m) \u001b[38;5;28;01mfor\u001b[39;00m x \u001b[38;5;129;01min\u001b[39;00m casted_key)\n\u001b[32m   3810\u001b[39m     ):\n\u001b[32m   3811\u001b[39m         \u001b[38;5;28;01mraise\u001b[39;00m InvalidIndexError(key)\n\u001b[32m-> \u001b[39m\u001b[32m3812\u001b[39m     \u001b[38;5;28;01mraise\u001b[39;00m \u001b[38;5;167;01mKeyError\u001b[39;00m(key) \u001b[38;5;28;01mfrom\u001b[39;00m\u001b[38;5;250m \u001b[39m\u001b[34;01merr\u001b[39;00m\n\u001b[32m   3813\u001b[39m \u001b[38;5;28;01mexcept\u001b[39;00m \u001b[38;5;167;01mTypeError\u001b[39;00m:\n\u001b[32m   3814\u001b[39m     \u001b[38;5;66;03m# If we have a listlike key, _check_indexing_error will raise\u001b[39;00m\n\u001b[32m   3815\u001b[39m     \u001b[38;5;66;03m#  InvalidIndexError. Otherwise we fall through and re-raise\u001b[39;00m\n\u001b[32m   3816\u001b[39m     \u001b[38;5;66;03m#  the TypeError.\u001b[39;00m\n\u001b[32m   3817\u001b[39m     \u001b[38;5;28mself\u001b[39m._check_indexing_error(key)\n",
      "\u001b[31mKeyError\u001b[39m: 'Observation_Date'"
     ]
    }
   ],
   "source": [
    "#make a new df for training usign the observation date to only get years 2011 - 2022\n",
    "df_train = df[df['Observation_Date'].str.contains('2011|2012|2013|2014|2015|2016|2017|2018|2019|2020|2021|2022')]\n",
    "#make new df for ground truth information taking just from 2023 from observation date which is year-month-day\n",
    "df_gt = df[df['Observation_Date'].str.contains('2023|2024')]\n",
    "\n",
    "# Define features (X) and target variable (y) for training\n",
    "X_train = df_train[['AGDD', 'Daylength', 'Prcp', 'Tmax', 'Tmin', 'Year', 'Month', 'Day', 'Accum_Prcp']] \n",
    "y_train = df_train['Intensity_Value']\n",
    "\n",
    "# Define features (X) and target variable (y) for testing\n",
    "X_test = df_gt[['AGDD', 'Daylength', 'Prcp', 'Tmax', 'Tmin', 'Year', 'Month', 'Day', 'Accum_Prcp']] \n",
    "y_test = df_gt['Intensity_Value']"
   ]
  },
  {
   "cell_type": "code",
   "execution_count": 286,
   "id": "8711e3ad",
   "metadata": {},
   "outputs": [],
   "source": [
    "# land cover\n",
    "encoder = OneHotEncoder(sparse_output=False, handle_unknown='ignore')\n",
    "\n",
    "encoded_land_cover_train = encoder.fit_transform(df_train[['land_cover_type']])\n",
    "encoded_land_cover_test = encoder.transform(df_gt[['land_cover_type']])\n",
    "\n",
    "encoded_feature_names = encoder.get_feature_names_out(['land_cover_type'])\n",
    "\n",
    "encoded_land_cover_train_df = pd.DataFrame(encoded_land_cover_train, columns=encoded_feature_names, index=df_train.index)\n",
    "encoded_land_cover_test_df = pd.DataFrame(encoded_land_cover_test, columns=encoded_feature_names, index=df_gt.index)\n",
    "\n",
    "X_train = pd.concat([X_train, encoded_land_cover_train_df], axis=1)\n",
    "X_test = pd.concat([X_test, encoded_land_cover_test_df], axis=1)\n"
   ]
  },
  {
   "cell_type": "code",
   "execution_count": 287,
   "id": "5c65438a",
   "metadata": {},
   "outputs": [],
   "source": [
    "X_train['Month_sin'] = np.sin(2 * np.pi * X_train['Month'] / 12)\n",
    "X_train['Month_cos'] = np.cos(2 * np.pi * X_train['Month'] / 12)\n",
    "\n",
    "X_test['Month_sin'] = np.sin(2 * np.pi * X_test['Month'] / 12)\n",
    "X_test['Month_cos'] = np.cos(2 * np.pi * X_test['Month'] / 12)\n",
    "\n",
    "for df in [X_train, X_test]:\n",
    "    df['Day_sin'] = np.sin(2 * np.pi * df['Day'] / 31)  # Max 31 days in a month\n",
    "    df['Day_cos'] = np.cos(2 * np.pi * df['Day'] / 31)"
   ]
  },
  {
   "cell_type": "code",
   "execution_count": 288,
   "id": "1115c26a",
   "metadata": {},
   "outputs": [],
   "source": [
    "# X_train = X_train.drop(['Month', 'Day'], axis=1)\n",
    "# X_test = X_test.drop(['Month', 'Day'], axis=1)"
   ]
  },
  {
   "cell_type": "code",
   "execution_count": 289,
   "id": "fc84be1b",
   "metadata": {},
   "outputs": [],
   "source": [
    "scaler = StandardScaler()\n",
    "# X_train_scaled = scaler.fit_transform(X_train)\n",
    "# X_test_scaled = scaler.transform(X_test)"
   ]
  },
  {
   "cell_type": "code",
   "execution_count": 290,
   "id": "db46544c",
   "metadata": {},
   "outputs": [
    {
     "name": "stdout",
     "output_type": "stream",
     "text": [
      "(21094, 21) (5738, 21)\n",
      "(21094,) (5738,)\n"
     ]
    }
   ],
   "source": [
    "# Xtrain, Xtest, ytrain, ytest = train_test_split(X_train, y_train, test_size=0.5, random_state=5)\n",
    "print(X_train.shape, X_test.shape)\n",
    "print(y_train.shape, y_test.shape)"
   ]
  },
  {
   "cell_type": "code",
   "execution_count": 291,
   "id": "cffd8fcc",
   "metadata": {},
   "outputs": [
    {
     "name": "stdout",
     "output_type": "stream",
     "text": [
      "New shape:  (21094, 10)\n",
      "New value:  tf.Tensor(\n",
      "[[0. 0. 0. ... 0. 0. 0.]\n",
      " [0. 0. 1. ... 0. 0. 0.]\n",
      " [0. 0. 0. ... 0. 0. 0.]\n",
      " ...\n",
      " [0. 1. 0. ... 0. 0. 0.]\n",
      " [0. 1. 0. ... 0. 0. 0.]\n",
      " [0. 0. 1. ... 0. 0. 0.]], shape=(21094, 10), dtype=float32)\n"
     ]
    }
   ],
   "source": [
    "number_of_class = 10\n",
    "train_labels_onehot = tf.one_hot(y_train, number_of_class)\n",
    "test_labels_onehot = tf.one_hot(y_test, number_of_class)\n",
    "print('New shape: ', train_labels_onehot.shape)\n",
    "print('New value: ', train_labels_onehot)"
   ]
  },
  {
   "cell_type": "code",
   "execution_count": null,
   "id": "404a9740",
   "metadata": {},
   "outputs": [],
   "source": [
    "normalizer = tf.keras.layers.Normalization(axis=-1)\n",
    "normalizer.adapt(X_train.values)  \n",
    "\n",
    "model = tf.keras.Sequential([\n",
    "  normalizer,\n",
    "  tf.keras.layers.Dense(128, activation='relu'), # 64 neurons, ReLU activation function\n",
    "  tf.keras.layers.Dense(128, activation='relu'),\n",
    "  tf.keras.layers.Dense(128, activation='relu'),\n",
    "  tf.keras.layers.Dense(64, activation='relu'),\n",
    "  tf.keras.layers.Dense(10, activation='softmax') # output layer, 10 because 10 labels (0-9)\n",
    "])\n",
    "\n",
    "optimizer = tf.keras.optimizers.Adam(learning_rate=0.001)\n",
    "\n",
    "model.compile(\n",
    "  optimizer=optimizer,\n",
    "  loss=tf.keras.losses.CategoricalCrossentropy(),\n",
    "  metrics=['accuracy']\n",
    ")"
   ]
  },
  {
   "cell_type": "code",
   "execution_count": 298,
   "id": "21000d6c",
   "metadata": {},
   "outputs": [
    {
     "name": "stdout",
     "output_type": "stream",
     "text": [
      "Epoch 1/10\n",
      "\u001b[1m660/660\u001b[0m \u001b[32m━━━━━━━━━━━━━━━━━━━━\u001b[0m\u001b[37m\u001b[0m \u001b[1m1s\u001b[0m 1ms/step - accuracy: 0.3022 - loss: 1.8521\n",
      "Epoch 2/10\n",
      "\u001b[1m660/660\u001b[0m \u001b[32m━━━━━━━━━━━━━━━━━━━━\u001b[0m\u001b[37m\u001b[0m \u001b[1m1s\u001b[0m 1ms/step - accuracy: 0.3213 - loss: 1.8102\n",
      "Epoch 3/10\n",
      "\u001b[1m660/660\u001b[0m \u001b[32m━━━━━━━━━━━━━━━━━━━━\u001b[0m\u001b[37m\u001b[0m \u001b[1m1s\u001b[0m 1ms/step - accuracy: 0.3199 - loss: 1.7911\n",
      "Epoch 4/10\n",
      "\u001b[1m660/660\u001b[0m \u001b[32m━━━━━━━━━━━━━━━━━━━━\u001b[0m\u001b[37m\u001b[0m \u001b[1m1s\u001b[0m 1ms/step - accuracy: 0.3261 - loss: 1.7820\n",
      "Epoch 5/10\n",
      "\u001b[1m660/660\u001b[0m \u001b[32m━━━━━━━━━━━━━━━━━━━━\u001b[0m\u001b[37m\u001b[0m \u001b[1m1s\u001b[0m 1ms/step - accuracy: 0.3234 - loss: 1.7748\n",
      "Epoch 6/10\n",
      "\u001b[1m660/660\u001b[0m \u001b[32m━━━━━━━━━━━━━━━━━━━━\u001b[0m\u001b[37m\u001b[0m \u001b[1m1s\u001b[0m 1ms/step - accuracy: 0.3271 - loss: 1.7651\n",
      "Epoch 7/10\n",
      "\u001b[1m660/660\u001b[0m \u001b[32m━━━━━━━━━━━━━━━━━━━━\u001b[0m\u001b[37m\u001b[0m \u001b[1m1s\u001b[0m 1ms/step - accuracy: 0.3304 - loss: 1.7584\n",
      "Epoch 8/10\n",
      "\u001b[1m660/660\u001b[0m \u001b[32m━━━━━━━━━━━━━━━━━━━━\u001b[0m\u001b[37m\u001b[0m \u001b[1m1s\u001b[0m 1ms/step - accuracy: 0.3404 - loss: 1.7485\n",
      "Epoch 9/10\n",
      "\u001b[1m660/660\u001b[0m \u001b[32m━━━━━━━━━━━━━━━━━━━━\u001b[0m\u001b[37m\u001b[0m \u001b[1m1s\u001b[0m 1ms/step - accuracy: 0.3366 - loss: 1.7317\n",
      "Epoch 10/10\n",
      "\u001b[1m660/660\u001b[0m \u001b[32m━━━━━━━━━━━━━━━━━━━━\u001b[0m\u001b[37m\u001b[0m \u001b[1m1s\u001b[0m 1ms/step - accuracy: 0.3332 - loss: 1.7334\n"
     ]
    },
    {
     "data": {
      "text/plain": [
       "<keras.src.callbacks.history.History at 0x1c8afb92750>"
      ]
     },
     "execution_count": 298,
     "metadata": {},
     "output_type": "execute_result"
    }
   ],
   "source": [
    "model.fit(X_train, train_labels_onehot, epochs=10)"
   ]
  },
  {
   "cell_type": "code",
   "execution_count": 299,
   "id": "4d9729c1",
   "metadata": {},
   "outputs": [
    {
     "name": "stdout",
     "output_type": "stream",
     "text": [
      "\u001b[1m180/180\u001b[0m \u001b[32m━━━━━━━━━━━━━━━━━━━━\u001b[0m\u001b[37m\u001b[0m \u001b[1m0s\u001b[0m 990us/step - accuracy: 0.1957 - loss: 2.3564\n"
     ]
    },
    {
     "data": {
      "text/plain": [
       "[2.430546522140503, 0.19954687356948853]"
      ]
     },
     "execution_count": 299,
     "metadata": {},
     "output_type": "execute_result"
    }
   ],
   "source": [
    "model.evaluate(X_test, test_labels_onehot)"
   ]
  },
  {
   "cell_type": "code",
   "execution_count": 295,
   "id": "3c4cc872",
   "metadata": {},
   "outputs": [
    {
     "name": "stdout",
     "output_type": "stream",
     "text": [
      "Intensity_Value\n",
      "0.0    1684\n",
      "1.0    2930\n",
      "2.0    3696\n",
      "3.0    1208\n",
      "4.0    3972\n",
      "5.0    1040\n",
      "6.0    2317\n",
      "7.0    1234\n",
      "8.0     720\n",
      "9.0    2293\n",
      "Name: count, dtype: int64\n"
     ]
    }
   ],
   "source": [
    "print(y_train.value_counts().sort_index())"
   ]
  },
  {
   "cell_type": "code",
   "execution_count": 296,
   "id": "6e7955aa",
   "metadata": {},
   "outputs": [
    {
     "name": "stdout",
     "output_type": "stream",
     "text": [
      "{0: 1.2526128266033254, 1: 0.7199317406143345, 2: 0.5707251082251082, 3: 1.7461920529801325, 4: 0.531067472306143, 5: 2.0282692307692307, 6: 0.9104013810962451, 7: 1.7094003241491087, 8: 2.9297222222222223, 9: 0.9199302224160488}\n"
     ]
    }
   ],
   "source": [
    "class_counts = y_train.value_counts().sort_index()\n",
    "total = len(y_train)\n",
    "class_weights = {i: total / (len(class_counts) * count) for i, count in enumerate(class_counts)}\n",
    "print(class_weights)"
   ]
  },
  {
   "cell_type": "code",
   "execution_count": 297,
   "id": "d7e021ae",
   "metadata": {},
   "outputs": [
    {
     "name": "stdout",
     "output_type": "stream",
     "text": [
      "Epoch 1/10\n",
      "\u001b[1m528/528\u001b[0m \u001b[32m━━━━━━━━━━━━━━━━━━━━\u001b[0m\u001b[37m\u001b[0m \u001b[1m1s\u001b[0m 2ms/step - accuracy: 0.2579 - loss: 1.9726 - val_accuracy: 0.1889 - val_loss: 2.1195\n",
      "Epoch 2/10\n",
      "\u001b[1m528/528\u001b[0m \u001b[32m━━━━━━━━━━━━━━━━━━━━\u001b[0m\u001b[37m\u001b[0m \u001b[1m1s\u001b[0m 2ms/step - accuracy: 0.2575 - loss: 1.9194 - val_accuracy: 0.1598 - val_loss: 2.2028\n",
      "Epoch 3/10\n",
      "\u001b[1m528/528\u001b[0m \u001b[32m━━━━━━━━━━━━━━━━━━━━\u001b[0m\u001b[37m\u001b[0m \u001b[1m1s\u001b[0m 1ms/step - accuracy: 0.2529 - loss: 1.9188 - val_accuracy: 0.1896 - val_loss: 2.1438\n",
      "Epoch 4/10\n",
      "\u001b[1m528/528\u001b[0m \u001b[32m━━━━━━━━━━━━━━━━━━━━\u001b[0m\u001b[37m\u001b[0m \u001b[1m1s\u001b[0m 2ms/step - accuracy: 0.2615 - loss: 1.9117 - val_accuracy: 0.1543 - val_loss: 2.2216\n",
      "Epoch 5/10\n",
      "\u001b[1m528/528\u001b[0m \u001b[32m━━━━━━━━━━━━━━━━━━━━\u001b[0m\u001b[37m\u001b[0m \u001b[1m1s\u001b[0m 2ms/step - accuracy: 0.2648 - loss: 1.8921 - val_accuracy: 0.1315 - val_loss: 2.3575\n",
      "Epoch 6/10\n",
      "\u001b[1m528/528\u001b[0m \u001b[32m━━━━━━━━━━━━━━━━━━━━\u001b[0m\u001b[37m\u001b[0m \u001b[1m1s\u001b[0m 2ms/step - accuracy: 0.2707 - loss: 1.8794 - val_accuracy: 0.1313 - val_loss: 2.3316\n",
      "Epoch 7/10\n",
      "\u001b[1m528/528\u001b[0m \u001b[32m━━━━━━━━━━━━━━━━━━━━\u001b[0m\u001b[37m\u001b[0m \u001b[1m1s\u001b[0m 2ms/step - accuracy: 0.2653 - loss: 1.8642 - val_accuracy: 0.1462 - val_loss: 2.2734\n",
      "Epoch 8/10\n",
      "\u001b[1m528/528\u001b[0m \u001b[32m━━━━━━━━━━━━━━━━━━━━\u001b[0m\u001b[37m\u001b[0m \u001b[1m1s\u001b[0m 1ms/step - accuracy: 0.2751 - loss: 1.8158 - val_accuracy: 0.1282 - val_loss: 2.3964\n",
      "Epoch 9/10\n",
      "\u001b[1m528/528\u001b[0m \u001b[32m━━━━━━━━━━━━━━━━━━━━\u001b[0m\u001b[37m\u001b[0m \u001b[1m1s\u001b[0m 1ms/step - accuracy: 0.2686 - loss: 1.8189 - val_accuracy: 0.1315 - val_loss: 2.3870\n",
      "Epoch 10/10\n",
      "\u001b[1m528/528\u001b[0m \u001b[32m━━━━━━━━━━━━━━━━━━━━\u001b[0m\u001b[37m\u001b[0m \u001b[1m1s\u001b[0m 1ms/step - accuracy: 0.2807 - loss: 1.8154 - val_accuracy: 0.1472 - val_loss: 2.3714\n"
     ]
    }
   ],
   "source": [
    "history = model.fit(\n",
    "    X_train, \n",
    "    train_labels_onehot,\n",
    "    epochs=10,  # Increase epochs\n",
    "    class_weight=class_weights,  # Critical for imbalance\n",
    "    validation_split=0.2,  # Add validation split\n",
    "    # callbacks=[tf.keras.callbacks.EarlyStopping(patience=3)]\n",
    ")"
   ]
  }
 ],
 "metadata": {
  "kernelspec": {
   "display_name": "venv",
   "language": "python",
   "name": "python3"
  },
  "language_info": {
   "codemirror_mode": {
    "name": "ipython",
    "version": 3
   },
   "file_extension": ".py",
   "mimetype": "text/x-python",
   "name": "python",
   "nbconvert_exporter": "python",
   "pygments_lexer": "ipython3",
   "version": "3.12.3"
  }
 },
 "nbformat": 4,
 "nbformat_minor": 5
}
